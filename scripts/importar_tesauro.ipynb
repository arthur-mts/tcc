{
 "cells": [
  {
   "cell_type": "code",
   "execution_count": 8,
   "id": "initial_id",
   "metadata": {
    "collapsed": true,
    "ExecuteTime": {
     "end_time": "2023-11-19T14:42:18.448383885Z",
     "start_time": "2023-11-19T14:42:18.436851653Z"
    }
   },
   "outputs": [],
   "source": [
    "import requests\n",
    "import mysql.connector\n",
    "import csv\n",
    "import re"
   ]
  },
  {
   "cell_type": "code",
   "execution_count": 13,
   "outputs": [],
   "source": [
    "db_cnx = mysql.connector.connect(user=\"docker\", password=\"docker\", host=\"localhost\", database=\"tcc\")\n",
    "\n",
    "temas_proposicoes_url = \"http://dadosabertos.camara.leg.br/arquivos/proposicoesTemas/json/proposicoesTemas-2023.json\""
   ],
   "metadata": {
    "collapsed": false,
    "ExecuteTime": {
     "end_time": "2023-11-19T14:49:06.443940188Z",
     "start_time": "2023-11-19T14:49:06.402252305Z"
    }
   },
   "id": "d4a6638fe0467c0c"
  },
  {
   "cell_type": "code",
   "execution_count": 10,
   "outputs": [],
   "source": [
    "response = requests.get(temas_proposicoes_url).json()[\"dados\"]"
   ],
   "metadata": {
    "collapsed": false,
    "ExecuteTime": {
     "end_time": "2023-11-19T14:46:04.612365584Z",
     "start_time": "2023-11-19T14:46:03.803178072Z"
    }
   },
   "id": "64675f7bb2fdd7c6"
  },
  {
   "cell_type": "code",
   "execution_count": 15,
   "outputs": [
    {
     "data": {
      "text/plain": "{'uriProposicao': 'https://dadosabertos.camara.leg.br/api/v2/proposicoes/2115253',\n 'siglaTipo': 'PL',\n 'numero': 2721,\n 'ano': 2023,\n 'codTema': 34,\n 'tema': 'Administração Pública',\n 'relevancia': 0}"
     },
     "execution_count": 15,
     "metadata": {},
     "output_type": "execute_result"
    }
   ],
   "source": [
    "response[1]"
   ],
   "metadata": {
    "collapsed": false,
    "ExecuteTime": {
     "end_time": "2023-11-19T14:51:17.985866051Z",
     "start_time": "2023-11-19T14:51:17.940235272Z"
    }
   },
   "id": "2055a0bfcfa2275e"
  },
  {
   "cell_type": "code",
   "execution_count": 17,
   "outputs": [
    {
     "data": {
      "text/plain": "True"
     },
     "execution_count": 17,
     "metadata": {},
     "output_type": "execute_result"
    }
   ],
   "source": [
    "cursor = db_cnx.cursor()\n",
    "for field in response:\n",
    "    proposicao_id = re.findall(r\"\\/proposicoes\\/(.*)$\", field[\"uriProposicao\"])[0]\n",
    "    cursor.execute(\"insert ignore into classificacao_proposicoes(id_proposicao, classificacao) value (%(id)s, %(classificacao)s);\", {\"id\": proposicao_id, \"classificacao\": field[\"tema\"]})\n",
    "    \n",
    "db_cnx.commit()\n",
    "cursor.close()"
   ],
   "metadata": {
    "collapsed": false,
    "ExecuteTime": {
     "end_time": "2023-11-19T14:52:07.649705611Z",
     "start_time": "2023-11-19T14:52:04.484901074Z"
    }
   },
   "id": "4f7009b58aa4b2bf"
  },
  {
   "cell_type": "code",
   "execution_count": null,
   "outputs": [],
   "source": [],
   "metadata": {
    "collapsed": false
   },
   "id": "bed725759faad990"
  }
 ],
 "metadata": {
  "kernelspec": {
   "display_name": "Python 3",
   "language": "python",
   "name": "python3"
  },
  "language_info": {
   "codemirror_mode": {
    "name": "ipython",
    "version": 2
   },
   "file_extension": ".py",
   "mimetype": "text/x-python",
   "name": "python",
   "nbconvert_exporter": "python",
   "pygments_lexer": "ipython2",
   "version": "2.7.6"
  }
 },
 "nbformat": 4,
 "nbformat_minor": 5
}
