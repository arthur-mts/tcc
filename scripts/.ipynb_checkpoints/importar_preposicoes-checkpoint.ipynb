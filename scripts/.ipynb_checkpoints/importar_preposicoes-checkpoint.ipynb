{
 "cells": [
  {
   "cell_type": "code",
   "execution_count": 1,
   "metadata": {
    "collapsed": true,
    "ExecuteTime": {
     "end_time": "2023-10-29T19:37:43.953374814Z",
     "start_time": "2023-10-29T19:37:43.884055979Z"
    }
   },
   "outputs": [],
   "source": [
    "import requests\n",
    "import mysql.connector\n",
    "import re"
   ]
  },
  {
   "cell_type": "code",
   "execution_count": 2,
   "outputs": [],
   "source": [
    "db_cnx = mysql.connector.connect(user = \"docker\", password = \"docker\", host=\"localhost\", database = \"tcc\")"
   ],
   "metadata": {
    "collapsed": false,
    "ExecuteTime": {
     "end_time": "2023-10-29T19:37:43.979129581Z",
     "start_time": "2023-10-29T19:37:43.956154323Z"
    }
   }
  },
  {
   "cell_type": "markdown",
   "source": [
    "## Buscando proposições"
   ],
   "metadata": {
    "collapsed": false
   }
  },
  {
   "cell_type": "code",
   "execution_count": 3,
   "outputs": [],
   "source": [
    "listagem_proposicoes_url = \"https://dadosabertos.camara.leg.br/api/v2/proposicoes\"\n",
    "detalhe_proposicoes_url = \"https://dadosabertos.camara.leg.br/api/v2/proposicoes/\"\n",
    "##TODO: salvar isso aqui num arquivo e só consultar (ou fazer um cache)\n",
    "codigo_situacao_url = \"https://dadosabertos.camara.leg.br/api/v2/referencias/proposicoes/codSituacao\"\n",
    "\n",
    "params = {\n",
    "    \"ordenarPor\": \"siglaTipo\",\n",
    "    \"dataApresentacaoInicio\": \"2020-01-01\",\n",
    "    \"dataApresentacaoFim\": \"2020-12-01\",\n",
    "    \"siglaTipo\": \"PL,PLC\",\n",
    "    \"itens\": \"10\"\n",
    "}\n",
    "response = requests.get(listagem_proposicoes_url, params).json()"
   ],
   "metadata": {
    "collapsed": false,
    "ExecuteTime": {
     "end_time": "2023-10-29T19:37:45.506587542Z",
     "start_time": "2023-10-29T19:37:43.982292598Z"
    }
   }
  },
  {
   "cell_type": "code",
   "execution_count": 4,
   "outputs": [],
   "source": [
    "proposicoes = response[\"dados\"]"
   ],
   "metadata": {
    "collapsed": false,
    "ExecuteTime": {
     "end_time": "2023-10-29T19:37:45.514745575Z",
     "start_time": "2023-10-29T19:37:45.508612831Z"
    }
   }
  },
  {
   "cell_type": "code",
   "execution_count": 5,
   "outputs": [],
   "source": [
    "codigo_situacao_lista = requests.get(codigo_situacao_url).json()[\"dados\"]\n",
    "codigo_situacao = {}\n",
    "for i in codigo_situacao_lista:\n",
    "    codigo_situacao[i[\"cod\"]] = i[\"nome\"]"
   ],
   "metadata": {
    "collapsed": false,
    "ExecuteTime": {
     "end_time": "2023-10-29T19:37:45.811397700Z",
     "start_time": "2023-10-29T19:37:45.512917911Z"
    }
   }
  },
  {
   "cell_type": "code",
   "execution_count": 6,
   "outputs": [
    {
     "data": {
      "text/plain": "True"
     },
     "execution_count": 6,
     "metadata": {},
     "output_type": "execute_result"
    }
   ],
   "source": [
    "query = \"\"\"\n",
    "insert into proposicoes(id, tipo, ano, ementa, ementa_detalhada, uri_documento, data_apresentacao, ultimo_relator_id,\n",
    "                        situacao)\n",
    "    value (%(id)s, %(siglaTipo)s, %(ano)s, %(ementa)s, null, %(uri)s, null, null, null)\n",
    "on duplicate key update tipo=%(siglaTipo)s, ano=%(ano)s, ementa=%(ementa)s, ementa_detalhada=null, uri_documento=null,\n",
    "                        data_apresentacao= null, ultimo_relator_id = null, situacao = null;\n",
    "\"\"\"\n",
    "## Campos em nulo serão atualizados mais tarde\n",
    "cursor = db_cnx.cursor()\n",
    "for preposicao in proposicoes:\n",
    "    cursor.execute(query, preposicao)\n",
    "db_cnx.commit()\n",
    "cursor.close()"
   ],
   "metadata": {
    "collapsed": false,
    "ExecuteTime": {
     "end_time": "2023-10-29T19:37:45.846875629Z",
     "start_time": "2023-10-29T19:37:45.813975907Z"
    }
   }
  },
  {
   "cell_type": "code",
   "execution_count": 7,
   "outputs": [],
   "source": [
    "def extrair_id_deputado(url):\n",
    "    return re.search(r\"/deputados/(.*)$\", url).group(1)"
   ],
   "metadata": {
    "collapsed": false,
    "ExecuteTime": {
     "end_time": "2023-10-29T19:37:45.847379141Z",
     "start_time": "2023-10-29T19:37:45.838406746Z"
    }
   }
  },
  {
   "cell_type": "code",
   "execution_count": 8,
   "outputs": [
    {
     "ename": "IntegrityError",
     "evalue": "1452 (23000): Cannot add or update a child row: a foreign key constraint fails (`tcc`.`proposicoes`, CONSTRAINT `proposicoes_ibfk_1` FOREIGN KEY (`ultimo_relator_id`) REFERENCES `deputado` (`id`))",
     "output_type": "error",
     "traceback": [
      "\u001B[0;31m---------------------------------------------------------------------------\u001B[0m",
      "\u001B[0;31mMySQLInterfaceError\u001B[0m                       Traceback (most recent call last)",
      "File \u001B[0;32m~/.local/lib/python3.8/site-packages/mysql/connector/connection_cext.py:633\u001B[0m, in \u001B[0;36mCMySQLConnection.cmd_query\u001B[0;34m(self, query, raw, buffered, raw_as_string)\u001B[0m\n\u001B[1;32m    632\u001B[0m         query \u001B[38;5;241m=\u001B[39m query\u001B[38;5;241m.\u001B[39mencode(\u001B[38;5;124m\"\u001B[39m\u001B[38;5;124mutf-8\u001B[39m\u001B[38;5;124m\"\u001B[39m)\n\u001B[0;32m--> 633\u001B[0m     \u001B[38;5;28;43mself\u001B[39;49m\u001B[38;5;241;43m.\u001B[39;49m\u001B[43m_cmysql\u001B[49m\u001B[38;5;241;43m.\u001B[39;49m\u001B[43mquery\u001B[49m\u001B[43m(\u001B[49m\n\u001B[1;32m    634\u001B[0m \u001B[43m        \u001B[49m\u001B[43mquery\u001B[49m\u001B[43m,\u001B[49m\n\u001B[1;32m    635\u001B[0m \u001B[43m        \u001B[49m\u001B[43mraw\u001B[49m\u001B[38;5;241;43m=\u001B[39;49m\u001B[43mraw\u001B[49m\u001B[43m,\u001B[49m\n\u001B[1;32m    636\u001B[0m \u001B[43m        \u001B[49m\u001B[43mbuffered\u001B[49m\u001B[38;5;241;43m=\u001B[39;49m\u001B[43mbuffered\u001B[49m\u001B[43m,\u001B[49m\n\u001B[1;32m    637\u001B[0m \u001B[43m        \u001B[49m\u001B[43mraw_as_string\u001B[49m\u001B[38;5;241;43m=\u001B[39;49m\u001B[43mraw_as_string\u001B[49m\u001B[43m,\u001B[49m\n\u001B[1;32m    638\u001B[0m \u001B[43m        \u001B[49m\u001B[43mquery_attrs\u001B[49m\u001B[38;5;241;43m=\u001B[39;49m\u001B[38;5;28;43mself\u001B[39;49m\u001B[38;5;241;43m.\u001B[39;49m\u001B[43mquery_attrs\u001B[49m\u001B[43m,\u001B[49m\n\u001B[1;32m    639\u001B[0m \u001B[43m    \u001B[49m\u001B[43m)\u001B[49m\n\u001B[1;32m    640\u001B[0m \u001B[38;5;28;01mexcept\u001B[39;00m MySQLInterfaceError \u001B[38;5;28;01mas\u001B[39;00m err:\n",
      "\u001B[0;31mMySQLInterfaceError\u001B[0m: Cannot add or update a child row: a foreign key constraint fails (`tcc`.`proposicoes`, CONSTRAINT `proposicoes_ibfk_1` FOREIGN KEY (`ultimo_relator_id`) REFERENCES `deputado` (`id`))",
      "\nThe above exception was the direct cause of the following exception:\n",
      "\u001B[0;31mIntegrityError\u001B[0m                            Traceback (most recent call last)",
      "Cell \u001B[0;32mIn[8], line 42\u001B[0m\n\u001B[1;32m     39\u001B[0m     params[\u001B[38;5;124m\"\u001B[39m\u001B[38;5;124msituacao\u001B[39m\u001B[38;5;124m\"\u001B[39m] \u001B[38;5;241m=\u001B[39m codigo_situacao[\u001B[38;5;28mstr\u001B[39m(response[\u001B[38;5;124m\"\u001B[39m\u001B[38;5;124mstatusProposicao\u001B[39m\u001B[38;5;124m\"\u001B[39m][\u001B[38;5;124m\"\u001B[39m\u001B[38;5;124mcodSituacao\u001B[39m\u001B[38;5;124m\"\u001B[39m])]\n\u001B[1;32m     40\u001B[0m     params[\u001B[38;5;124m\"\u001B[39m\u001B[38;5;124multimoRelatorId\u001B[39m\u001B[38;5;124m\"\u001B[39m] \u001B[38;5;241m=\u001B[39m ultimoRelatorId\n\u001B[0;32m---> 42\u001B[0m     \u001B[43mcursor\u001B[49m\u001B[38;5;241;43m.\u001B[39;49m\u001B[43mexecute\u001B[49m\u001B[43m(\u001B[49m\u001B[43mquery\u001B[49m\u001B[43m,\u001B[49m\u001B[43m \u001B[49m\u001B[43mparams\u001B[49m\u001B[43m)\u001B[49m\n\u001B[1;32m     43\u001B[0m db_cnx\u001B[38;5;241m.\u001B[39mcommit()\n\u001B[1;32m     44\u001B[0m cursor\u001B[38;5;241m.\u001B[39mclose()\n",
      "File \u001B[0;32m~/.local/lib/python3.8/site-packages/mysql/connector/cursor_cext.py:330\u001B[0m, in \u001B[0;36mCMySQLCursor.execute\u001B[0;34m(self, operation, params, multi)\u001B[0m\n\u001B[1;32m    325\u001B[0m             \u001B[38;5;28;01mraise\u001B[39;00m ProgrammingError(\n\u001B[1;32m    326\u001B[0m                 \u001B[38;5;124m\"\u001B[39m\u001B[38;5;124mNot all parameters were used in the SQL statement\u001B[39m\u001B[38;5;124m\"\u001B[39m\n\u001B[1;32m    327\u001B[0m             )\n\u001B[1;32m    329\u001B[0m \u001B[38;5;28;01mtry\u001B[39;00m:\n\u001B[0;32m--> 330\u001B[0m     result \u001B[38;5;241m=\u001B[39m \u001B[38;5;28;43mself\u001B[39;49m\u001B[38;5;241;43m.\u001B[39;49m\u001B[43m_cnx\u001B[49m\u001B[38;5;241;43m.\u001B[39;49m\u001B[43mcmd_query\u001B[49m\u001B[43m(\u001B[49m\n\u001B[1;32m    331\u001B[0m \u001B[43m        \u001B[49m\u001B[43mstmt\u001B[49m\u001B[43m,\u001B[49m\n\u001B[1;32m    332\u001B[0m \u001B[43m        \u001B[49m\u001B[43mraw\u001B[49m\u001B[38;5;241;43m=\u001B[39;49m\u001B[38;5;28;43mself\u001B[39;49m\u001B[38;5;241;43m.\u001B[39;49m\u001B[43m_raw\u001B[49m\u001B[43m,\u001B[49m\n\u001B[1;32m    333\u001B[0m \u001B[43m        \u001B[49m\u001B[43mbuffered\u001B[49m\u001B[38;5;241;43m=\u001B[39;49m\u001B[38;5;28;43mself\u001B[39;49m\u001B[38;5;241;43m.\u001B[39;49m\u001B[43m_buffered\u001B[49m\u001B[43m,\u001B[49m\n\u001B[1;32m    334\u001B[0m \u001B[43m        \u001B[49m\u001B[43mraw_as_string\u001B[49m\u001B[38;5;241;43m=\u001B[39;49m\u001B[38;5;28;43mself\u001B[39;49m\u001B[38;5;241;43m.\u001B[39;49m\u001B[43m_raw_as_string\u001B[49m\u001B[43m,\u001B[49m\n\u001B[1;32m    335\u001B[0m \u001B[43m    \u001B[49m\u001B[43m)\u001B[49m\n\u001B[1;32m    336\u001B[0m \u001B[38;5;28;01mexcept\u001B[39;00m MySQLInterfaceError \u001B[38;5;28;01mas\u001B[39;00m err:\n\u001B[1;32m    337\u001B[0m     \u001B[38;5;28;01mraise\u001B[39;00m get_mysql_exception(\n\u001B[1;32m    338\u001B[0m         msg\u001B[38;5;241m=\u001B[39merr\u001B[38;5;241m.\u001B[39mmsg, errno\u001B[38;5;241m=\u001B[39merr\u001B[38;5;241m.\u001B[39merrno, sqlstate\u001B[38;5;241m=\u001B[39merr\u001B[38;5;241m.\u001B[39msqlstate\n\u001B[1;32m    339\u001B[0m     ) \u001B[38;5;28;01mfrom\u001B[39;00m \u001B[38;5;21;01merr\u001B[39;00m\n",
      "File \u001B[0;32m~/.local/lib/python3.8/site-packages/mysql/connector/opentelemetry/context_propagation.py:77\u001B[0m, in \u001B[0;36mwith_context_propagation.<locals>.wrapper\u001B[0;34m(cnx, *args, **kwargs)\u001B[0m\n\u001B[1;32m     75\u001B[0m \u001B[38;5;250m\u001B[39m\u001B[38;5;124;03m\"\"\"Context propagation decorator.\"\"\"\u001B[39;00m\n\u001B[1;32m     76\u001B[0m \u001B[38;5;28;01mif\u001B[39;00m \u001B[38;5;129;01mnot\u001B[39;00m OTEL_ENABLED \u001B[38;5;129;01mor\u001B[39;00m \u001B[38;5;129;01mnot\u001B[39;00m cnx\u001B[38;5;241m.\u001B[39motel_context_propagation:\n\u001B[0;32m---> 77\u001B[0m     \u001B[38;5;28;01mreturn\u001B[39;00m \u001B[43mmethod\u001B[49m\u001B[43m(\u001B[49m\u001B[43mcnx\u001B[49m\u001B[43m,\u001B[49m\u001B[43m \u001B[49m\u001B[38;5;241;43m*\u001B[39;49m\u001B[43margs\u001B[49m\u001B[43m,\u001B[49m\u001B[43m \u001B[49m\u001B[38;5;241;43m*\u001B[39;49m\u001B[38;5;241;43m*\u001B[39;49m\u001B[43mkwargs\u001B[49m\u001B[43m)\u001B[49m\n\u001B[1;32m     79\u001B[0m current_span \u001B[38;5;241m=\u001B[39m trace\u001B[38;5;241m.\u001B[39mget_current_span()\n\u001B[1;32m     80\u001B[0m tp_header \u001B[38;5;241m=\u001B[39m \u001B[38;5;28;01mNone\u001B[39;00m\n",
      "File \u001B[0;32m~/.local/lib/python3.8/site-packages/mysql/connector/connection_cext.py:641\u001B[0m, in \u001B[0;36mCMySQLConnection.cmd_query\u001B[0;34m(self, query, raw, buffered, raw_as_string)\u001B[0m\n\u001B[1;32m    633\u001B[0m     \u001B[38;5;28mself\u001B[39m\u001B[38;5;241m.\u001B[39m_cmysql\u001B[38;5;241m.\u001B[39mquery(\n\u001B[1;32m    634\u001B[0m         query,\n\u001B[1;32m    635\u001B[0m         raw\u001B[38;5;241m=\u001B[39mraw,\n\u001B[0;32m   (...)\u001B[0m\n\u001B[1;32m    638\u001B[0m         query_attrs\u001B[38;5;241m=\u001B[39m\u001B[38;5;28mself\u001B[39m\u001B[38;5;241m.\u001B[39mquery_attrs,\n\u001B[1;32m    639\u001B[0m     )\n\u001B[1;32m    640\u001B[0m \u001B[38;5;28;01mexcept\u001B[39;00m MySQLInterfaceError \u001B[38;5;28;01mas\u001B[39;00m err:\n\u001B[0;32m--> 641\u001B[0m     \u001B[38;5;28;01mraise\u001B[39;00m get_mysql_exception(\n\u001B[1;32m    642\u001B[0m         err\u001B[38;5;241m.\u001B[39merrno, msg\u001B[38;5;241m=\u001B[39merr\u001B[38;5;241m.\u001B[39mmsg, sqlstate\u001B[38;5;241m=\u001B[39merr\u001B[38;5;241m.\u001B[39msqlstate\n\u001B[1;32m    643\u001B[0m     ) \u001B[38;5;28;01mfrom\u001B[39;00m \u001B[38;5;21;01merr\u001B[39;00m\n\u001B[1;32m    644\u001B[0m \u001B[38;5;28;01mexcept\u001B[39;00m \u001B[38;5;167;01mAttributeError\u001B[39;00m \u001B[38;5;28;01mas\u001B[39;00m err:\n\u001B[1;32m    645\u001B[0m     addr \u001B[38;5;241m=\u001B[39m (\n\u001B[1;32m    646\u001B[0m         \u001B[38;5;28mself\u001B[39m\u001B[38;5;241m.\u001B[39m_unix_socket \u001B[38;5;28;01mif\u001B[39;00m \u001B[38;5;28mself\u001B[39m\u001B[38;5;241m.\u001B[39m_unix_socket \u001B[38;5;28;01melse\u001B[39;00m \u001B[38;5;124mf\u001B[39m\u001B[38;5;124m\"\u001B[39m\u001B[38;5;132;01m{\u001B[39;00m\u001B[38;5;28mself\u001B[39m\u001B[38;5;241m.\u001B[39m_host\u001B[38;5;132;01m}\u001B[39;00m\u001B[38;5;124m:\u001B[39m\u001B[38;5;132;01m{\u001B[39;00m\u001B[38;5;28mself\u001B[39m\u001B[38;5;241m.\u001B[39m_port\u001B[38;5;132;01m}\u001B[39;00m\u001B[38;5;124m\"\u001B[39m\n\u001B[1;32m    647\u001B[0m     )\n",
      "\u001B[0;31mIntegrityError\u001B[0m: 1452 (23000): Cannot add or update a child row: a foreign key constraint fails (`tcc`.`proposicoes`, CONSTRAINT `proposicoes_ibfk_1` FOREIGN KEY (`ultimo_relator_id`) REFERENCES `deputado` (`id`))"
     ]
    }
   ],
   "source": [
    "query = \"\"\"\n",
    "update proposicoes set\n",
    "                       ementa_detalhada = %(ementaDetalhada)s, data_apresentacao = %(dataApresentacao)s,\n",
    "                       uri_documento = %(urlInteiroTeor)s,\n",
    "                       ultimo_relator_id = %(ultimoRelatorId)s, situacao = %(situacao)s where id = %(id)s ;\n",
    "\"\"\"\n",
    "preposicao_updates = []\n",
    "cursor = db_cnx.cursor()\n",
    "for preposicao in proposicoes:\n",
    "    response = requests.get(f\"{detalhe_proposicoes_url}/{preposicao['id']}\").json()[\"dados\"]\n",
    "\n",
    "    params = {\n",
    "        \"ementaDetalhada\": response[\"ementaDetalhada\"],\n",
    "        \"dataApresentacao\": response[\"dataApresentacao\"][:-6],\n",
    "        \"id\": preposicao['id'],\n",
    "        \"urlInteiroTeor\": response[\"urlInteiroTeor\"]\n",
    "    }\n",
    "    uriUltimoRelator = response[\"statusProposicao\"][\"uriUltimoRelator\"]\n",
    "    ultimoRelatorId = None\n",
    "    if not uriUltimoRelator is None:\n",
    "        ultimoRelatorId = re.search(r\"/deputados/(.*)$\", response[\"statusProposicao\"][\"uriUltimoRelator\"]).group(1)\n",
    "\n",
    "    autores = requests.get(response[\"uriAutores\"]).json()[\"dados\"]\n",
    "\n",
    "    for autor in autores:\n",
    "        if autor.get(\"tipo\") == \"Deputado\":\n",
    "            id_autor = extrair_id_deputado(autor.get(\"uri\"))\n",
    "\n",
    "            cursor.execute(\"select exists(select * from deputado where id = %s)\", [id_autor])\n",
    "            deputado_existe = cursor.fetchone()[0] == 1\n",
    "\n",
    "            if deputado_existe:\n",
    "\n",
    "                cursor.execute(\"\"\"\n",
    "                    insert into autor_proposicoes (id_proposicao, id_deputado)\n",
    "                    values (%s, %s);\n",
    "                \"\"\", (params[\"id\"], id_autor))\n",
    "\n",
    "    params[\"situacao\"] = codigo_situacao[str(response[\"statusProposicao\"][\"codSituacao\"])]\n",
    "    params[\"ultimoRelatorId\"] = ultimoRelatorId\n",
    "\n",
    "    cursor.execute(query, params)\n",
    "db_cnx.commit()\n",
    "cursor.close()"
   ],
   "metadata": {
    "collapsed": false,
    "ExecuteTime": {
     "end_time": "2023-10-29T19:37:48.251688587Z",
     "start_time": "2023-10-29T19:37:45.848017993Z"
    }
   }
  }
 ],
 "metadata": {
  "kernelspec": {
   "display_name": "Python 3",
   "language": "python",
   "name": "python3"
  },
  "language_info": {
   "codemirror_mode": {
    "name": "ipython",
    "version": 2
   },
   "file_extension": ".py",
   "mimetype": "text/x-python",
   "name": "python",
   "nbconvert_exporter": "python",
   "pygments_lexer": "ipython2",
   "version": "2.7.6"
  }
 },
 "nbformat": 4,
 "nbformat_minor": 0
}
