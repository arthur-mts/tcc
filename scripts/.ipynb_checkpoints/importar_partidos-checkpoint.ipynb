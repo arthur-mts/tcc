{
 "cells": [
  {
   "cell_type": "code",
   "execution_count": 46,
   "outputs": [],
   "source": [
    "import requests\n",
    "import mysql.connector\n",
    "import re"
   ],
   "metadata": {
    "collapsed": false,
    "ExecuteTime": {
     "end_time": "2023-10-30T12:48:39.034032631Z",
     "start_time": "2023-10-30T12:48:38.988286960Z"
    }
   }
  },
  {
   "cell_type": "code",
   "execution_count": 47,
   "outputs": [],
   "source": [
    "db_cnx = mysql.connector.connect(user=\"docker\", password=\"docker\", host=\"localhost\", database=\"tcc\")"
   ],
   "metadata": {
    "collapsed": false,
    "ExecuteTime": {
     "end_time": "2023-10-30T12:48:39.037673276Z",
     "start_time": "2023-10-30T12:48:39.033909028Z"
    }
   }
  },
  {
   "cell_type": "markdown",
   "source": [
    "# Inserindo partidos"
   ],
   "metadata": {
    "collapsed": false
   }
  },
  {
   "cell_type": "code",
   "execution_count": 48,
   "metadata": {
    "collapsed": true,
    "ExecuteTime": {
     "end_time": "2023-10-30T12:48:39.038095564Z",
     "start_time": "2023-10-30T12:48:39.037404013Z"
    }
   },
   "outputs": [],
   "source": [
    "listagem_partidos_url = \"https://dadosabertos.camara.leg.br/api/v2/partidos?ordem=ASC&ordenarPor=sigla&itens=100\""
   ]
  },
  {
   "cell_type": "code",
   "execution_count": 49,
   "outputs": [],
   "source": [
    "partidos = requests.get(listagem_partidos_url).json()[\"dados\"]"
   ],
   "metadata": {
    "collapsed": false,
    "ExecuteTime": {
     "end_time": "2023-10-30T12:49:27.491804514Z",
     "start_time": "2023-10-30T12:48:39.037628095Z"
    }
   }
  },
  {
   "cell_type": "code",
   "execution_count": 50,
   "outputs": [
    {
     "ename": "IntegrityError",
     "evalue": "1062 (23000): Duplicate entry 'AVANTE' for key 'partido.PRIMARY'",
     "output_type": "error",
     "traceback": [
      "\u001B[0;31m---------------------------------------------------------------------------\u001B[0m",
      "\u001B[0;31mMySQLInterfaceError\u001B[0m                       Traceback (most recent call last)",
      "File \u001B[0;32m~/.local/lib/python3.8/site-packages/mysql/connector/connection_cext.py:633\u001B[0m, in \u001B[0;36mCMySQLConnection.cmd_query\u001B[0;34m(self, query, raw, buffered, raw_as_string)\u001B[0m\n\u001B[1;32m    632\u001B[0m         query \u001B[38;5;241m=\u001B[39m query\u001B[38;5;241m.\u001B[39mencode(\u001B[38;5;124m\"\u001B[39m\u001B[38;5;124mutf-8\u001B[39m\u001B[38;5;124m\"\u001B[39m)\n\u001B[0;32m--> 633\u001B[0m     \u001B[38;5;28;43mself\u001B[39;49m\u001B[38;5;241;43m.\u001B[39;49m\u001B[43m_cmysql\u001B[49m\u001B[38;5;241;43m.\u001B[39;49m\u001B[43mquery\u001B[49m\u001B[43m(\u001B[49m\n\u001B[1;32m    634\u001B[0m \u001B[43m        \u001B[49m\u001B[43mquery\u001B[49m\u001B[43m,\u001B[49m\n\u001B[1;32m    635\u001B[0m \u001B[43m        \u001B[49m\u001B[43mraw\u001B[49m\u001B[38;5;241;43m=\u001B[39;49m\u001B[43mraw\u001B[49m\u001B[43m,\u001B[49m\n\u001B[1;32m    636\u001B[0m \u001B[43m        \u001B[49m\u001B[43mbuffered\u001B[49m\u001B[38;5;241;43m=\u001B[39;49m\u001B[43mbuffered\u001B[49m\u001B[43m,\u001B[49m\n\u001B[1;32m    637\u001B[0m \u001B[43m        \u001B[49m\u001B[43mraw_as_string\u001B[49m\u001B[38;5;241;43m=\u001B[39;49m\u001B[43mraw_as_string\u001B[49m\u001B[43m,\u001B[49m\n\u001B[1;32m    638\u001B[0m \u001B[43m        \u001B[49m\u001B[43mquery_attrs\u001B[49m\u001B[38;5;241;43m=\u001B[39;49m\u001B[38;5;28;43mself\u001B[39;49m\u001B[38;5;241;43m.\u001B[39;49m\u001B[43mquery_attrs\u001B[49m\u001B[43m,\u001B[49m\n\u001B[1;32m    639\u001B[0m \u001B[43m    \u001B[49m\u001B[43m)\u001B[49m\n\u001B[1;32m    640\u001B[0m \u001B[38;5;28;01mexcept\u001B[39;00m MySQLInterfaceError \u001B[38;5;28;01mas\u001B[39;00m err:\n",
      "\u001B[0;31mMySQLInterfaceError\u001B[0m: Duplicate entry 'AVANTE' for key 'partido.PRIMARY'",
      "\nThe above exception was the direct cause of the following exception:\n",
      "\u001B[0;31mIntegrityError\u001B[0m                            Traceback (most recent call last)",
      "Cell \u001B[0;32mIn[50], line 15\u001B[0m\n\u001B[1;32m     13\u001B[0m     params[\u001B[38;5;124m\"\u001B[39m\u001B[38;5;124muri_site\u001B[39m\u001B[38;5;124m\"\u001B[39m] \u001B[38;5;241m=\u001B[39m detalhes[\u001B[38;5;124m\"\u001B[39m\u001B[38;5;124murlFacebook\u001B[39m\u001B[38;5;124m\"\u001B[39m]\n\u001B[1;32m     14\u001B[0m params[\u001B[38;5;124m\"\u001B[39m\u001B[38;5;124msituacao\u001B[39m\u001B[38;5;124m\"\u001B[39m] \u001B[38;5;241m=\u001B[39m detalhes[\u001B[38;5;124m\"\u001B[39m\u001B[38;5;124mstatus\u001B[39m\u001B[38;5;124m\"\u001B[39m][\u001B[38;5;124m\"\u001B[39m\u001B[38;5;124msituacao\u001B[39m\u001B[38;5;124m\"\u001B[39m]\n\u001B[0;32m---> 15\u001B[0m \u001B[43mcursor\u001B[49m\u001B[38;5;241;43m.\u001B[39;49m\u001B[43mexecute\u001B[49m\u001B[43m(\u001B[49m\u001B[43mstatement\u001B[49m\u001B[43m,\u001B[49m\u001B[43m \u001B[49m\u001B[43mparams\u001B[49m\u001B[43m)\u001B[49m\n",
      "File \u001B[0;32m~/.local/lib/python3.8/site-packages/mysql/connector/cursor_cext.py:330\u001B[0m, in \u001B[0;36mCMySQLCursor.execute\u001B[0;34m(self, operation, params, multi)\u001B[0m\n\u001B[1;32m    325\u001B[0m             \u001B[38;5;28;01mraise\u001B[39;00m ProgrammingError(\n\u001B[1;32m    326\u001B[0m                 \u001B[38;5;124m\"\u001B[39m\u001B[38;5;124mNot all parameters were used in the SQL statement\u001B[39m\u001B[38;5;124m\"\u001B[39m\n\u001B[1;32m    327\u001B[0m             )\n\u001B[1;32m    329\u001B[0m \u001B[38;5;28;01mtry\u001B[39;00m:\n\u001B[0;32m--> 330\u001B[0m     result \u001B[38;5;241m=\u001B[39m \u001B[38;5;28;43mself\u001B[39;49m\u001B[38;5;241;43m.\u001B[39;49m\u001B[43m_cnx\u001B[49m\u001B[38;5;241;43m.\u001B[39;49m\u001B[43mcmd_query\u001B[49m\u001B[43m(\u001B[49m\n\u001B[1;32m    331\u001B[0m \u001B[43m        \u001B[49m\u001B[43mstmt\u001B[49m\u001B[43m,\u001B[49m\n\u001B[1;32m    332\u001B[0m \u001B[43m        \u001B[49m\u001B[43mraw\u001B[49m\u001B[38;5;241;43m=\u001B[39;49m\u001B[38;5;28;43mself\u001B[39;49m\u001B[38;5;241;43m.\u001B[39;49m\u001B[43m_raw\u001B[49m\u001B[43m,\u001B[49m\n\u001B[1;32m    333\u001B[0m \u001B[43m        \u001B[49m\u001B[43mbuffered\u001B[49m\u001B[38;5;241;43m=\u001B[39;49m\u001B[38;5;28;43mself\u001B[39;49m\u001B[38;5;241;43m.\u001B[39;49m\u001B[43m_buffered\u001B[49m\u001B[43m,\u001B[49m\n\u001B[1;32m    334\u001B[0m \u001B[43m        \u001B[49m\u001B[43mraw_as_string\u001B[49m\u001B[38;5;241;43m=\u001B[39;49m\u001B[38;5;28;43mself\u001B[39;49m\u001B[38;5;241;43m.\u001B[39;49m\u001B[43m_raw_as_string\u001B[49m\u001B[43m,\u001B[49m\n\u001B[1;32m    335\u001B[0m \u001B[43m    \u001B[49m\u001B[43m)\u001B[49m\n\u001B[1;32m    336\u001B[0m \u001B[38;5;28;01mexcept\u001B[39;00m MySQLInterfaceError \u001B[38;5;28;01mas\u001B[39;00m err:\n\u001B[1;32m    337\u001B[0m     \u001B[38;5;28;01mraise\u001B[39;00m get_mysql_exception(\n\u001B[1;32m    338\u001B[0m         msg\u001B[38;5;241m=\u001B[39merr\u001B[38;5;241m.\u001B[39mmsg, errno\u001B[38;5;241m=\u001B[39merr\u001B[38;5;241m.\u001B[39merrno, sqlstate\u001B[38;5;241m=\u001B[39merr\u001B[38;5;241m.\u001B[39msqlstate\n\u001B[1;32m    339\u001B[0m     ) \u001B[38;5;28;01mfrom\u001B[39;00m \u001B[38;5;21;01merr\u001B[39;00m\n",
      "File \u001B[0;32m~/.local/lib/python3.8/site-packages/mysql/connector/opentelemetry/context_propagation.py:77\u001B[0m, in \u001B[0;36mwith_context_propagation.<locals>.wrapper\u001B[0;34m(cnx, *args, **kwargs)\u001B[0m\n\u001B[1;32m     75\u001B[0m \u001B[38;5;250m\u001B[39m\u001B[38;5;124;03m\"\"\"Context propagation decorator.\"\"\"\u001B[39;00m\n\u001B[1;32m     76\u001B[0m \u001B[38;5;28;01mif\u001B[39;00m \u001B[38;5;129;01mnot\u001B[39;00m OTEL_ENABLED \u001B[38;5;129;01mor\u001B[39;00m \u001B[38;5;129;01mnot\u001B[39;00m cnx\u001B[38;5;241m.\u001B[39motel_context_propagation:\n\u001B[0;32m---> 77\u001B[0m     \u001B[38;5;28;01mreturn\u001B[39;00m \u001B[43mmethod\u001B[49m\u001B[43m(\u001B[49m\u001B[43mcnx\u001B[49m\u001B[43m,\u001B[49m\u001B[43m \u001B[49m\u001B[38;5;241;43m*\u001B[39;49m\u001B[43margs\u001B[49m\u001B[43m,\u001B[49m\u001B[43m \u001B[49m\u001B[38;5;241;43m*\u001B[39;49m\u001B[38;5;241;43m*\u001B[39;49m\u001B[43mkwargs\u001B[49m\u001B[43m)\u001B[49m\n\u001B[1;32m     79\u001B[0m current_span \u001B[38;5;241m=\u001B[39m trace\u001B[38;5;241m.\u001B[39mget_current_span()\n\u001B[1;32m     80\u001B[0m tp_header \u001B[38;5;241m=\u001B[39m \u001B[38;5;28;01mNone\u001B[39;00m\n",
      "File \u001B[0;32m~/.local/lib/python3.8/site-packages/mysql/connector/connection_cext.py:641\u001B[0m, in \u001B[0;36mCMySQLConnection.cmd_query\u001B[0;34m(self, query, raw, buffered, raw_as_string)\u001B[0m\n\u001B[1;32m    633\u001B[0m     \u001B[38;5;28mself\u001B[39m\u001B[38;5;241m.\u001B[39m_cmysql\u001B[38;5;241m.\u001B[39mquery(\n\u001B[1;32m    634\u001B[0m         query,\n\u001B[1;32m    635\u001B[0m         raw\u001B[38;5;241m=\u001B[39mraw,\n\u001B[0;32m   (...)\u001B[0m\n\u001B[1;32m    638\u001B[0m         query_attrs\u001B[38;5;241m=\u001B[39m\u001B[38;5;28mself\u001B[39m\u001B[38;5;241m.\u001B[39mquery_attrs,\n\u001B[1;32m    639\u001B[0m     )\n\u001B[1;32m    640\u001B[0m \u001B[38;5;28;01mexcept\u001B[39;00m MySQLInterfaceError \u001B[38;5;28;01mas\u001B[39;00m err:\n\u001B[0;32m--> 641\u001B[0m     \u001B[38;5;28;01mraise\u001B[39;00m get_mysql_exception(\n\u001B[1;32m    642\u001B[0m         err\u001B[38;5;241m.\u001B[39merrno, msg\u001B[38;5;241m=\u001B[39merr\u001B[38;5;241m.\u001B[39mmsg, sqlstate\u001B[38;5;241m=\u001B[39merr\u001B[38;5;241m.\u001B[39msqlstate\n\u001B[1;32m    643\u001B[0m     ) \u001B[38;5;28;01mfrom\u001B[39;00m \u001B[38;5;21;01merr\u001B[39;00m\n\u001B[1;32m    644\u001B[0m \u001B[38;5;28;01mexcept\u001B[39;00m \u001B[38;5;167;01mAttributeError\u001B[39;00m \u001B[38;5;28;01mas\u001B[39;00m err:\n\u001B[1;32m    645\u001B[0m     addr \u001B[38;5;241m=\u001B[39m (\n\u001B[1;32m    646\u001B[0m         \u001B[38;5;28mself\u001B[39m\u001B[38;5;241m.\u001B[39m_unix_socket \u001B[38;5;28;01mif\u001B[39;00m \u001B[38;5;28mself\u001B[39m\u001B[38;5;241m.\u001B[39m_unix_socket \u001B[38;5;28;01melse\u001B[39;00m \u001B[38;5;124mf\u001B[39m\u001B[38;5;124m\"\u001B[39m\u001B[38;5;132;01m{\u001B[39;00m\u001B[38;5;28mself\u001B[39m\u001B[38;5;241m.\u001B[39m_host\u001B[38;5;132;01m}\u001B[39;00m\u001B[38;5;124m:\u001B[39m\u001B[38;5;132;01m{\u001B[39;00m\u001B[38;5;28mself\u001B[39m\u001B[38;5;241m.\u001B[39m_port\u001B[38;5;132;01m}\u001B[39;00m\u001B[38;5;124m\"\u001B[39m\n\u001B[1;32m    647\u001B[0m     )\n",
      "\u001B[0;31mIntegrityError\u001B[0m: 1062 (23000): Duplicate entry 'AVANTE' for key 'partido.PRIMARY'"
     ]
    }
   ],
   "source": [
    "cursor = db_cnx.cursor()\n",
    "for partido in partidos:\n",
    "\n",
    "    statement = \"\"\"\n",
    "    insert into partido (id, nome, situacao, uri_logo, uri_site, sigla)\n",
    "        values (%(id)s, %(nome)s, %(situacao)s, %(uri_logo)s, %(uri_site)s, %(sigla)s);\n",
    "    \"\"\"\n",
    "    params = {\"id\": partido[\"id\"], \"nome\": partido[\"nome\"], \"sigla\": partido[\"sigla\"]}\n",
    "    detalhes = requests.get(partido[\"uri\"]).json()[\"dados\"]\n",
    "    params[\"uri_logo\"] = detalhes[\"urlLogo\"]\n",
    "    params[\"uri_site\"] = detalhes[\"urlWebSite\"]\n",
    "    if params[\"uri_site\"] == \"\" or params[\"uri_site\"] is None:\n",
    "        params[\"uri_site\"] = detalhes[\"urlFacebook\"]\n",
    "    params[\"situacao\"] = detalhes[\"status\"][\"situacao\"]\n",
    "    cursor.execute(statement, params)"
   ],
   "metadata": {
    "collapsed": false,
    "ExecuteTime": {
     "end_time": "2023-10-30T12:49:31.496467955Z",
     "start_time": "2023-10-30T12:49:27.498926141Z"
    }
   }
  },
  {
   "cell_type": "code",
   "execution_count": null,
   "outputs": [],
   "source": [
    "db_cnx.commit()"
   ],
   "metadata": {
    "collapsed": false,
    "ExecuteTime": {
     "start_time": "2023-10-30T12:49:31.494594350Z"
    }
   }
  },
  {
   "cell_type": "code",
   "execution_count": null,
   "outputs": [],
   "source": [
    "cursor.close()"
   ],
   "metadata": {
    "collapsed": false,
    "ExecuteTime": {
     "end_time": "2023-10-30T12:49:31.496953719Z",
     "start_time": "2023-10-30T12:49:31.496706500Z"
    }
   }
  },
  {
   "cell_type": "code",
   "execution_count": null,
   "outputs": [],
   "source": [
    "db_cnx.close()"
   ],
   "metadata": {
    "collapsed": false,
    "ExecuteTime": {
     "start_time": "2023-10-30T12:49:31.540611220Z"
    }
   }
  },
  {
   "cell_type": "code",
   "execution_count": null,
   "outputs": [],
   "source": [],
   "metadata": {
    "collapsed": false,
    "ExecuteTime": {
     "start_time": "2023-10-30T12:49:31.540829025Z"
    }
   }
  }
 ],
 "metadata": {
  "kernelspec": {
   "display_name": "Python 3",
   "language": "python",
   "name": "python3"
  },
  "language_info": {
   "codemirror_mode": {
    "name": "ipython",
    "version": 2
   },
   "file_extension": ".py",
   "mimetype": "text/x-python",
   "name": "python",
   "nbconvert_exporter": "python",
   "pygments_lexer": "ipython2",
   "version": "2.7.6"
  }
 },
 "nbformat": 4,
 "nbformat_minor": 0
}
