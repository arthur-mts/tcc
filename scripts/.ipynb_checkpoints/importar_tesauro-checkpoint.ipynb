{
 "cells": [
  {
   "cell_type": "code",
   "execution_count": 1,
   "id": "initial_id",
   "metadata": {
    "collapsed": true,
    "ExecuteTime": {
     "end_time": "2023-11-29T17:26:34.244090579Z",
     "start_time": "2023-11-29T17:26:34.089612732Z"
    }
   },
   "outputs": [],
   "source": [
    "import requests\n",
    "import mysql.connector\n",
    "import csv\n",
    "import re"
   ]
  },
  {
   "cell_type": "code",
   "execution_count": 2,
   "outputs": [],
   "source": [
    "db_cnx = mysql.connector.connect(user=\"docker\", password=\"docker\", host=\"localhost\", database=\"tcc\")\n",
    "\n",
    "temas_proposicoes_url = \"http://dadosabertos.camara.leg.br/arquivos/proposicoesTemas/json/proposicoesTemas-2023.json\""
   ],
   "metadata": {
    "collapsed": false,
    "ExecuteTime": {
     "end_time": "2023-11-29T17:26:34.275486905Z",
     "start_time": "2023-11-29T17:26:34.237493481Z"
    }
   },
   "id": "d4a6638fe0467c0c"
  },
  {
   "cell_type": "code",
   "execution_count": 3,
   "outputs": [],
   "source": [
    "response = requests.get(temas_proposicoes_url).json()[\"dados\"]"
   ],
   "metadata": {
    "collapsed": false,
    "ExecuteTime": {
     "end_time": "2023-11-29T17:26:34.915646285Z",
     "start_time": "2023-11-29T17:26:34.272217866Z"
    }
   },
   "id": "64675f7bb2fdd7c6"
  },
  {
   "cell_type": "code",
   "execution_count": 5,
   "outputs": [
    {
     "data": {
      "text/plain": "True"
     },
     "execution_count": 5,
     "metadata": {},
     "output_type": "execute_result"
    }
   ],
   "source": [
    "cursor = db_cnx.cursor()\n",
    "for field in response:\n",
    "    proposicao_id = re.findall(r\"\\/proposicoes\\/(.*)$\", field[\"uriProposicao\"])[0]\n",
    "    cursor.execute(\"insert ignore into classificacao_proposicoes(id_proposicao, classificacao) value (%(id)s, %(classificacao)s);\", {\"id\": proposicao_id, \"classificacao\": field[\"tema\"]})\n",
    "    \n",
    "db_cnx.commit()\n",
    "cursor.close()"
   ],
   "metadata": {
    "collapsed": false,
    "ExecuteTime": {
     "end_time": "2023-11-29T17:26:38.204659584Z",
     "start_time": "2023-11-29T17:26:34.927101012Z"
    }
   },
   "id": "4f7009b58aa4b2bf"
  },
  {
   "cell_type": "code",
   "execution_count": 5,
   "outputs": [],
   "source": [],
   "metadata": {
    "collapsed": false,
    "ExecuteTime": {
     "end_time": "2023-11-29T17:26:38.205074022Z",
     "start_time": "2023-11-29T17:26:38.197060201Z"
    }
   },
   "id": "bed725759faad990"
  }
 ],
 "metadata": {
  "kernelspec": {
   "display_name": "Python 3",
   "language": "python",
   "name": "python3"
  },
  "language_info": {
   "codemirror_mode": {
    "name": "ipython",
    "version": 2
   },
   "file_extension": ".py",
   "mimetype": "text/x-python",
   "name": "python",
   "nbconvert_exporter": "python",
   "pygments_lexer": "ipython2",
   "version": "2.7.6"
  }
 },
 "nbformat": 4,
 "nbformat_minor": 5
}
