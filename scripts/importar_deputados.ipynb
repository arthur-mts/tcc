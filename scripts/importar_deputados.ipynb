{
 "cells": [
  {
   "cell_type": "code",
   "execution_count": 1,
   "metadata": {
    "ExecuteTime": {
     "end_time": "2023-12-30T00:05:50.931559900Z",
     "start_time": "2023-12-30T00:05:50.776796171Z"
    }
   },
   "outputs": [],
   "source": [
    "import requests\n",
    "import mysql.connector\n",
    "import re\n",
    "from multiprocessing import Process, Pool"
   ]
  },
  {
   "cell_type": "code",
   "execution_count": 2,
   "metadata": {
    "collapsed": false,
    "ExecuteTime": {
     "end_time": "2023-12-30T00:05:50.933227320Z",
     "start_time": "2023-12-30T00:05:50.929370640Z"
    }
   },
   "outputs": [],
   "source": [
    "db_cnx = mysql.connector.connect(user=\"docker\", password=\"docker\", host=\"localhost\", database=\"tcc\")"
   ]
  },
  {
   "cell_type": "markdown",
   "metadata": {
    "collapsed": false
   },
   "source": [
    "# Salvando todos os deputados das últimas tres legislaturas"
   ]
  },
  {
   "cell_type": "code",
   "outputs": [],
   "source": [
    "listagem_deputados_url = \"https://dadosabertos.camara.leg.br/api/v2/deputados?itens=100&idLegislatura=55,56,57\""
   ],
   "metadata": {
    "collapsed": false,
    "ExecuteTime": {
     "end_time": "2023-12-30T00:15:13.889803072Z",
     "start_time": "2023-12-30T00:15:13.800998968Z"
    }
   },
   "execution_count": 10
  },
  {
   "cell_type": "code",
   "outputs": [],
   "source": [
    "def extrair_id_deputado(url):\n",
    "    return re.search(r\"/deputados/(.*)$\", url).group(1)"
   ],
   "metadata": {
    "collapsed": false,
    "ExecuteTime": {
     "end_time": "2023-12-30T00:15:14.620473636Z",
     "start_time": "2023-12-30T00:15:14.322647586Z"
    }
   },
   "execution_count": 11
  },
  {
   "cell_type": "code",
   "outputs": [
    {
     "name": "stdout",
     "output_type": "stream",
     "text": [
      "https://dadosabertos.camara.leg.br/api/v2/deputados?itens=100&idLegislatura=55,56,57\n",
      "100\n",
      "processados = 100\n",
      "Pagina 0\n",
      "https://dadosabertos.camara.leg.br/api/v2/deputados?idLegislatura=55,56,57&pagina=2&itens=100\n",
      "100\n",
      "processados = 100\n",
      "Pagina 2\n",
      "https://dadosabertos.camara.leg.br/api/v2/deputados?idLegislatura=55,56,57&pagina=3&itens=100\n",
      "100\n",
      "processados = 100\n",
      "Pagina 3\n",
      "https://dadosabertos.camara.leg.br/api/v2/deputados?idLegislatura=55,56,57&pagina=4&itens=100\n",
      "100\n",
      "processados = 100\n",
      "Pagina 4\n",
      "https://dadosabertos.camara.leg.br/api/v2/deputados?idLegislatura=55,56,57&pagina=5&itens=100\n",
      "100\n",
      "processados = 100\n",
      "Pagina 5\n",
      "https://dadosabertos.camara.leg.br/api/v2/deputados?idLegislatura=55,56,57&pagina=6&itens=100\n",
      "100\n",
      "processados = 100\n",
      "Pagina 6\n",
      "https://dadosabertos.camara.leg.br/api/v2/deputados?idLegislatura=55,56,57&pagina=7&itens=100\n",
      "100\n",
      "processados = 100\n",
      "Pagina 7\n",
      "https://dadosabertos.camara.leg.br/api/v2/deputados?idLegislatura=55,56,57&pagina=8&itens=100\n",
      "100\n",
      "processados = 100\n",
      "Pagina 8\n",
      "https://dadosabertos.camara.leg.br/api/v2/deputados?idLegislatura=55,56,57&pagina=9&itens=100\n",
      "100\n",
      "processados = 100\n",
      "Pagina 9\n",
      "https://dadosabertos.camara.leg.br/api/v2/deputados?idLegislatura=55,56,57&pagina=10&itens=100\n",
      "100\n",
      "processados = 100\n",
      "Pagina 10\n",
      "https://dadosabertos.camara.leg.br/api/v2/deputados?idLegislatura=55,56,57&pagina=11&itens=100\n",
      "100\n",
      "processados = 100\n",
      "Pagina 11\n",
      "https://dadosabertos.camara.leg.br/api/v2/deputados?idLegislatura=55,56,57&pagina=12&itens=100\n",
      "100\n",
      "processados = 100\n",
      "Pagina 12\n",
      "https://dadosabertos.camara.leg.br/api/v2/deputados?idLegislatura=55,56,57&pagina=13&itens=100\n",
      "100\n",
      "processados = 100\n",
      "Pagina 13\n",
      "https://dadosabertos.camara.leg.br/api/v2/deputados?idLegislatura=55,56,57&pagina=14&itens=100\n",
      "100\n",
      "processados = 100\n",
      "Pagina 14\n",
      "https://dadosabertos.camara.leg.br/api/v2/deputados?idLegislatura=55,56,57&pagina=15&itens=100\n",
      "100\n",
      "processados = 100\n",
      "Pagina 15\n",
      "https://dadosabertos.camara.leg.br/api/v2/deputados?idLegislatura=55,56,57&pagina=16&itens=100\n",
      "100\n",
      "processados = 100\n",
      "Pagina 16\n",
      "https://dadosabertos.camara.leg.br/api/v2/deputados?idLegislatura=55,56,57&pagina=17&itens=100\n",
      "100\n",
      "processados = 100\n",
      "Pagina 17\n",
      "https://dadosabertos.camara.leg.br/api/v2/deputados?idLegislatura=55,56,57&pagina=18&itens=100\n",
      "100\n",
      "processados = 100\n",
      "Pagina 18\n",
      "https://dadosabertos.camara.leg.br/api/v2/deputados?idLegislatura=55,56,57&pagina=19&itens=100\n",
      "100\n",
      "processados = 100\n",
      "Pagina 19\n",
      "https://dadosabertos.camara.leg.br/api/v2/deputados?idLegislatura=55,56,57&pagina=20&itens=100\n",
      "100\n",
      "processados = 100\n",
      "Pagina 20\n",
      "https://dadosabertos.camara.leg.br/api/v2/deputados?idLegislatura=55,56,57&pagina=21&itens=100\n",
      "100\n",
      "processados = 100\n",
      "Pagina 21\n",
      "https://dadosabertos.camara.leg.br/api/v2/deputados?idLegislatura=55,56,57&pagina=22&itens=100\n",
      "100\n",
      "processados = 100\n",
      "Pagina 22\n",
      "https://dadosabertos.camara.leg.br/api/v2/deputados?idLegislatura=55,56,57&pagina=23&itens=100\n",
      "100\n",
      "processados = 100\n",
      "Pagina 23\n",
      "https://dadosabertos.camara.leg.br/api/v2/deputados?idLegislatura=55,56,57&pagina=24&itens=100\n",
      "100\n",
      "processados = 100\n",
      "Pagina 24\n",
      "https://dadosabertos.camara.leg.br/api/v2/deputados?idLegislatura=55,56,57&pagina=25&itens=100\n",
      "100\n",
      "processados = 100\n",
      "Pagina 25\n",
      "https://dadosabertos.camara.leg.br/api/v2/deputados?idLegislatura=55,56,57&pagina=26&itens=100\n",
      "100\n",
      "processados = 100\n",
      "Pagina 26\n",
      "https://dadosabertos.camara.leg.br/api/v2/deputados?idLegislatura=55,56,57&pagina=27&itens=100\n",
      "100\n",
      "processados = 100\n",
      "Pagina 27\n",
      "https://dadosabertos.camara.leg.br/api/v2/deputados?idLegislatura=55,56,57&pagina=28&itens=100\n",
      "89\n",
      "processados = 89\n",
      "Pagina 28\n"
     ]
    }
   ],
   "source": [
    "## multi thread\n",
    "hasNext = True\n",
    "cursor = db_cnx.cursor()\n",
    "statement = \"\"\"\n",
    "    insert ignore into deputado (id, nome, nome_eleitoral, situacao,\n",
    "                          condicao_eleitoral, partido, estado, uri_foto)\n",
    "    values ( %(id)s, %(nome)s, %(nome_eleitoral)s, %(situacao)s,\n",
    "     %(condicao_eleitoral)s,\n",
    "     %(partido)s,\n",
    "     %(estado)s,\n",
    "     %(uri_foto)s\n",
    "     );\n",
    "\"\"\"\n",
    "\n",
    "def inserirParaleloAux(args):\n",
    "    return inserirParalelo(*args)\n",
    "\n",
    "def inserirParalelo(uri, params):\n",
    "    detalhes = requests.get(uri).json()[\"dados\"]\n",
    "    params[\"nome\"] = detalhes[\"nomeCivil\"]\n",
    "    params[\"situacao\"] = detalhes[\"ultimoStatus\"][\"situacao\"]\n",
    "    params[\"condicao_eleitoral\"] = detalhes[\"ultimoStatus\"][\"condicaoEleitoral\"]\n",
    "    return params\n",
    "\n",
    "while hasNext:\n",
    "    print(listagem_deputados_url)\n",
    "    response = requests.get(listagem_deputados_url).json()\n",
    "    print(len(response[\"dados\"]))\n",
    "    paralel_params = []\n",
    "    for deputado in response[\"dados\"]:\n",
    "        params = {\n",
    "            \"id\": deputado[\"id\"],\n",
    "            \"nome_eleitoral\": deputado[\"nome\"],\n",
    "            \"estado\": deputado[\"siglaUf\"],\n",
    "            \"partido\": deputado[\"siglaPartido\"],\n",
    "            \"uri_foto\": deputado.get(\"urlFoto\")\n",
    "        }\n",
    "        paralel_params.append((deputado[\"uri\"], params))\n",
    "        \n",
    "    with Pool(processes = 5) as pool:\n",
    "        values = pool.map(inserirParaleloAux, paralel_params)\n",
    "    print(f\"processados = {len(values)}\")\n",
    "    cursor.executemany(statement, values)\n",
    "    db_cnx.commit()\n",
    "    hasNext = False\n",
    "    \n",
    "    search = re.search(r\"pagina=([0-9]+)\", listagem_deputados_url)\n",
    "    if search is None:\n",
    "        pagina_atual = 0\n",
    "    else:\n",
    "        pagina_atual = search.group(1)\n",
    "    print(f\"Pagina {pagina_atual}\")\n",
    "    for i in response[\"links\"]:\n",
    "        if i.get(\"rel\") == \"next\":\n",
    "            hasNext = True\n",
    "            listagem_deputados_url = i[\"href\"]\n",
    "            break"
   ],
   "metadata": {
    "collapsed": false,
    "ExecuteTime": {
     "end_time": "2023-12-30T00:27:49.640998044Z",
     "start_time": "2023-12-30T00:15:14.673666562Z"
    }
   },
   "execution_count": 12
  },
  {
   "cell_type": "code",
   "outputs": [],
   "source": [
    "cursor.close()"
   ],
   "metadata": {
    "collapsed": false,
    "ExecuteTime": {
     "start_time": "2023-12-30T00:09:39.663214086Z"
    }
   },
   "execution_count": null
  },
  {
   "cell_type": "code",
   "execution_count": null,
   "metadata": {
    "collapsed": false,
    "ExecuteTime": {
     "start_time": "2023-12-30T00:09:39.664494052Z"
    }
   },
   "outputs": [],
   "source": [
    "# ## single thread\n",
    "# hasNext = True\n",
    "# cursor = db_cnx.cursor()\n",
    "# statement = \"\"\"\n",
    "#     insert ignore into deputado (id, nome, nome_eleitoral, situacao,\n",
    "#                           condicao_eleitoral, partido, estado, uri_foto)\n",
    "#     values ( %(id)s, %(nome)s, %(nome_eleitoral)s, %(situacao)s,\n",
    "#      %(condicao_eleitoral)s,\n",
    "#      %(partido)s,\n",
    "#      %(estado)s,\n",
    "#      %(uri_foto)s\n",
    "#      );\n",
    "# \"\"\"\n",
    "# \n",
    "# values = []\n",
    "# progresso = 0\n",
    "# while hasNext:\n",
    "#     response = requests.get(listagem_deputados_url).json()\n",
    "#     for deputado in response[\"dados\"]:\n",
    "#         cursor.execute(\"select exists(select * from deputado where id = %s)\", [deputado[\"id\"]])\n",
    "#         deputado_existe = cursor.fetchone()[0] == 1\n",
    "#         if deputado_existe:\n",
    "#             continue\n",
    "# \n",
    "#         params = {\n",
    "#             \"id\": deputado[\"id\"],\n",
    "#             \"nome_eleitoral\": deputado[\"nome\"],\n",
    "#             \"estado\": deputado[\"siglaUf\"],\n",
    "#             \"partido\": deputado[\"siglaPartido\"],\n",
    "#             \"uri_foto\": deputado.get(\"urlFoto\")\n",
    "#         }\n",
    "# \n",
    "#         detalhes = requests.get(deputado[\"uri\"]).json()[\"dados\"]\n",
    "#         params[\"nome\"] = detalhes[\"nomeCivil\"]\n",
    "#         params[\"situacao\"] = detalhes[\"ultimoStatus\"][\"situacao\"]\n",
    "#         params[\"condicao_eleitoral\"] = detalhes[\"ultimoStatus\"][\"condicaoEleitoral\"]\n",
    "# \n",
    "#         values.append(params)\n",
    "#         progresso += 1\n",
    "#     hasNext = False\n",
    "#     if progresso % 100 == 0:\n",
    "#         cursor.executemany(statement, values)\n",
    "#         db_cnx.commit()\n",
    "#         values = []\n",
    "#         print(progresso)\n",
    "#         search = re.search(r\"pagina=([0-9]+)\", listagem_deputados_url)\n",
    "#         if search is None:\n",
    "#             pagina_atual = 0\n",
    "#         else:\n",
    "#             pagina_atual = search.group(1)\n",
    "#         print(f\"Pagina {pagina_atual}\")\n",
    "#     for i in response[\"links\"]:\n",
    "#         if i.get(\"rel\") == \"next\":\n",
    "#             hasNext = True\n",
    "#             listagem_deputados_url = i[\"href\"]\n",
    "#             break"
   ]
  },
  {
   "cell_type": "code",
   "outputs": [],
   "source": [
    "progresso"
   ],
   "metadata": {
    "collapsed": false,
    "ExecuteTime": {
     "start_time": "2023-12-30T00:09:39.666525617Z"
    }
   },
   "execution_count": null
  },
  {
   "cell_type": "code",
   "execution_count": null,
   "metadata": {
    "collapsed": false,
    "ExecuteTime": {
     "start_time": "2023-12-30T00:09:39.669934625Z"
    }
   },
   "outputs": [],
   "source": [
    "db_cnx.close()\n",
    "cursor.close()"
   ]
  }
 ],
 "metadata": {
  "kernelspec": {
   "display_name": "Python 3 (ipykernel)",
   "language": "python",
   "name": "python3"
  },
  "language_info": {
   "codemirror_mode": {
    "name": "ipython",
    "version": 3
   },
   "file_extension": ".py",
   "mimetype": "text/x-python",
   "name": "python",
   "nbconvert_exporter": "python",
   "pygments_lexer": "ipython3",
   "version": "3.8.18"
  }
 },
 "nbformat": 4,
 "nbformat_minor": 4
}
