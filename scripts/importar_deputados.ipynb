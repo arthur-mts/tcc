{
 "cells": [
  {
   "cell_type": "code",
   "execution_count": 4,
   "metadata": {
    "collapsed": true,
    "ExecuteTime": {
     "end_time": "2023-10-29T19:58:13.187579574Z",
     "start_time": "2023-10-29T19:58:13.146522153Z"
    }
   },
   "outputs": [],
   "source": [
    "import requests\n",
    "import mysql.connector"
   ]
  },
  {
   "cell_type": "code",
   "execution_count": 5,
   "outputs": [],
   "source": [
    "db_cnx = mysql.connector.connect(user=\"docker\", password=\"docker\", host=\"localhost\", database=\"tcc\")"
   ],
   "metadata": {
    "collapsed": false,
    "ExecuteTime": {
     "end_time": "2023-10-29T19:58:13.187964852Z",
     "start_time": "2023-10-29T19:58:13.187277868Z"
    }
   }
  },
  {
   "cell_type": "markdown",
   "source": [
    "# Salvando todos os deputados ativos atualmente"
   ],
   "metadata": {
    "collapsed": false
   }
  },
  {
   "cell_type": "code",
   "execution_count": 6,
   "outputs": [],
   "source": [
    "listagem_deputados_url = \"https://dadosabertos.camara.leg.br/api/v2/deputados?itens=100\"\n",
    "hasNext = True\n",
    "cursor = db_cnx.cursor()\n",
    "cursor.execute(\"delete from deputado\")\n",
    "\n",
    "while hasNext:\n",
    "    response = requests.get(listagem_deputados_url).json()\n",
    "    for deputado in response[\"dados\"]:\n",
    "        statement = \"\"\"\n",
    "            insert into deputado (id, nome, nome_eleitoral, situacao,\n",
    "                                  condicao_eleitoral, partido, estado, uri_foto)\n",
    "            values ( %(id)s, %(nome)s, %(nome_eleitoral)s, %(situacao)s,\n",
    "             %(condicao_eleitoral)s,\n",
    "             %(partido)s,\n",
    "             %(estado)s,\n",
    "             %(uri_foto)s\n",
    "             );\n",
    "        \"\"\"\n",
    "\n",
    "        params = {\n",
    "            \"id\": deputado[\"id\"],\n",
    "            \"nome_eleitoral\": deputado[\"nome\"],\n",
    "            \"estado\": deputado[\"siglaUf\"],\n",
    "            \"partido\": deputado[\"siglaPartido\"],\n",
    "            \"uri_foto\": deputado.get(\"urlFoto\")\n",
    "        }\n",
    "\n",
    "        detalhes = requests.get(deputado[\"uri\"]).json()[\"dados\"]\n",
    "\n",
    "        params[\"nome\"] = detalhes[\"nomeCivil\"]\n",
    "        params[\"situacao\"] = detalhes[\"ultimoStatus\"][\"situacao\"]\n",
    "        params[\"condicao_eleitoral\"] = detalhes[\"ultimoStatus\"][\"condicaoEleitoral\"]\n",
    "\n",
    "        try:\n",
    "            cursor.execute(statement, params)\n",
    "        except Exception as e:\n",
    "            cursor.close()\n",
    "            print(params)\n",
    "            raise e\n",
    "\n",
    "    hasNext = False\n",
    "    for i in response[\"links\"]:\n",
    "        if i.get(\"rel\") == \"next\":\n",
    "            hasNext = True\n",
    "            listagem_deputados_url = i[\"href\"]\n",
    "            break\n",
    "\n",
    "db_cnx.commit()"
   ],
   "metadata": {
    "collapsed": false,
    "ExecuteTime": {
     "end_time": "2023-10-29T20:01:21.707582520Z",
     "start_time": "2023-10-29T19:58:13.188518641Z"
    }
   }
  },
  {
   "cell_type": "code",
   "execution_count": 7,
   "outputs": [],
   "source": [
    "db_cnx.close()"
   ],
   "metadata": {
    "collapsed": false,
    "ExecuteTime": {
     "end_time": "2023-10-29T20:01:21.713386036Z",
     "start_time": "2023-10-29T20:01:21.707204175Z"
    }
   }
  },
  {
   "cell_type": "code",
   "execution_count": 7,
   "outputs": [],
   "source": [],
   "metadata": {
    "collapsed": false,
    "ExecuteTime": {
     "end_time": "2023-10-29T20:01:21.713677055Z",
     "start_time": "2023-10-29T20:01:21.707521700Z"
    }
   }
  }
 ],
 "metadata": {
  "kernelspec": {
   "display_name": "Python 3",
   "language": "python",
   "name": "python3"
  },
  "language_info": {
   "codemirror_mode": {
    "name": "ipython",
    "version": 2
   },
   "file_extension": ".py",
   "mimetype": "text/x-python",
   "name": "python",
   "nbconvert_exporter": "python",
   "pygments_lexer": "ipython2",
   "version": "2.7.6"
  }
 },
 "nbformat": 4,
 "nbformat_minor": 0
}
