{
 "cells": [
  {
   "cell_type": "code",
   "execution_count": 67,
   "outputs": [],
   "source": [
    "import requests\n",
    "import mysql.connector\n",
    "import re"
   ],
   "metadata": {
    "collapsed": false
   }
  },
  {
   "cell_type": "code",
   "execution_count": 68,
   "outputs": [],
   "source": [
    "db_cnx = mysql.connector.connect(user=\"docker\", password=\"docker\", host=\"localhost\", database=\"tcc\")"
   ],
   "metadata": {
    "collapsed": false
   }
  },
  {
   "cell_type": "markdown",
   "source": [
    "# Inserindo partidos"
   ],
   "metadata": {
    "collapsed": false
   }
  },
  {
   "cell_type": "code",
   "execution_count": 69,
   "metadata": {
    "collapsed": true
   },
   "outputs": [],
   "source": [
    "listagem_partidos_url = \"https://dadosabertos.camara.leg.br/api/v2/partidos?ordem=ASC&ordenarPor=sigla&itens=100\""
   ]
  },
  {
   "cell_type": "code",
   "execution_count": 70,
   "outputs": [],
   "source": [
    "partidos = requests.get(listagem_partidos_url).json()[\"dados\"]"
   ],
   "metadata": {
    "collapsed": false
   }
  },
  {
   "cell_type": "code",
   "execution_count": 71,
   "outputs": [],
   "source": [
    "cursor = db_cnx.cursor()\n",
    "for partido in partidos:\n",
    "\n",
    "    statement = \"\"\"\n",
    "    insert into partido (id, nome, situacao, uri_logo, uri_site, sigla)\n",
    "        values (%(id)s, %(nome)s, %(situacao)s, %(uri_logo)s, %(uri_site)s, %(sigla)s);\n",
    "    \"\"\"\n",
    "    params = {\"id\": partido[\"id\"], \"nome\": partido[\"nome\"], \"sigla\": partido[\"sigla\"]}\n",
    "    detalhes = requests.get(partido[\"uri\"]).json()[\"dados\"]\n",
    "    params[\"uri_logo\"] = detalhes[\"urlLogo\"]\n",
    "    params[\"uri_site\"] = detalhes[\"urlWebSite\"]\n",
    "    if params[\"uri_site\"] == \"\" or params[\"uri_site\"] is None:\n",
    "        params[\"uri_site\"] = detalhes[\"urlFacebook\"]\n",
    "    params[\"situacao\"] = detalhes[\"status\"][\"situacao\"]\n",
    "    cursor.execute(statement, params)"
   ],
   "metadata": {
    "collapsed": false
   }
  },
  {
   "cell_type": "code",
   "execution_count": 72,
   "outputs": [],
   "source": [
    "db_cnx.commit()"
   ],
   "metadata": {
    "collapsed": false
   }
  },
  {
   "cell_type": "code",
   "execution_count": 73,
   "outputs": [
    {
     "data": {
      "text/plain": "True"
     },
     "execution_count": 73,
     "metadata": {},
     "output_type": "execute_result"
    }
   ],
   "source": [
    "cursor.close()"
   ],
   "metadata": {
    "collapsed": false
   }
  },
  {
   "cell_type": "code",
   "execution_count": 74,
   "outputs": [],
   "source": [
    "db_cnx.close()"
   ],
   "metadata": {
    "collapsed": false
   }
  },
  {
   "cell_type": "code",
   "execution_count": 74,
   "outputs": [],
   "source": [],
   "metadata": {
    "collapsed": false
   }
  }
 ],
 "metadata": {
  "kernelspec": {
   "display_name": "Python 3",
   "language": "python",
   "name": "python3"
  },
  "language_info": {
   "codemirror_mode": {
    "name": "ipython",
    "version": 2
   },
   "file_extension": ".py",
   "mimetype": "text/x-python",
   "name": "python",
   "nbconvert_exporter": "python",
   "pygments_lexer": "ipython2",
   "version": "2.7.6"
  }
 },
 "nbformat": 4,
 "nbformat_minor": 0
}
