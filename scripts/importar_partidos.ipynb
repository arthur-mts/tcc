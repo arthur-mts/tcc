{
 "cells": [
  {
   "cell_type": "code",
   "execution_count": 38,
   "outputs": [],
   "source": [
    "import requests\n",
    "import mysql.connector\n",
    "import re"
   ],
   "metadata": {
    "collapsed": false,
    "ExecuteTime": {
     "end_time": "2023-10-29T19:57:36.991604586Z",
     "start_time": "2023-10-29T19:57:36.936543486Z"
    }
   }
  },
  {
   "cell_type": "code",
   "execution_count": 39,
   "outputs": [],
   "source": [
    "db_cnx = mysql.connector.connect(user=\"docker\", password=\"docker\", host=\"localhost\", database=\"tcc\")"
   ],
   "metadata": {
    "collapsed": false,
    "ExecuteTime": {
     "end_time": "2023-10-29T19:57:36.999640945Z",
     "start_time": "2023-10-29T19:57:36.980590360Z"
    }
   }
  },
  {
   "cell_type": "markdown",
   "source": [
    "# Inserindo partidos"
   ],
   "metadata": {
    "collapsed": false
   }
  },
  {
   "cell_type": "code",
   "execution_count": 40,
   "metadata": {
    "collapsed": true,
    "ExecuteTime": {
     "end_time": "2023-10-29T19:57:37.005912025Z",
     "start_time": "2023-10-29T19:57:37.002535050Z"
    }
   },
   "outputs": [],
   "source": [
    "listagem_partidos_url = \"https://dadosabertos.camara.leg.br/api/v2/partidos?ordem=ASC&ordenarPor=sigla&itens=100\""
   ]
  },
  {
   "cell_type": "code",
   "execution_count": 41,
   "outputs": [],
   "source": [
    "partidos = requests.get(listagem_partidos_url).json()[\"dados\"]"
   ],
   "metadata": {
    "collapsed": false,
    "ExecuteTime": {
     "end_time": "2023-10-29T19:57:37.394078831Z",
     "start_time": "2023-10-29T19:57:37.009308044Z"
    }
   }
  },
  {
   "cell_type": "code",
   "execution_count": 42,
   "outputs": [],
   "source": [
    "cursor = db_cnx.cursor()\n",
    "for partido in partidos:\n",
    "\n",
    "    statement = \"\"\"\n",
    "    insert into partido (id, nome, situacao, uri_logo, uri_site, sigla)\n",
    "        values (%(id)s, %(nome)s, %(situacao)s, %(uri_logo)s, %(uri_site)s, %(sigla)s);\n",
    "    \"\"\"\n",
    "    params = {\"id\": partido[\"id\"], \"nome\": partido[\"nome\"], \"sigla\": partido[\"sigla\"]}\n",
    "    detalhes = requests.get(partido[\"uri\"]).json()[\"dados\"]\n",
    "    params[\"uri_logo\"] = detalhes[\"urlLogo\"]\n",
    "    params[\"uri_site\"] = detalhes[\"urlWebSite\"]\n",
    "    if params[\"uri_site\"] == \"\" or params[\"uri_site\"] is None:\n",
    "        params[\"uri_site\"] = detalhes[\"urlFacebook\"]\n",
    "    params[\"situacao\"] = detalhes[\"status\"][\"situacao\"]\n",
    "    cursor.execute(statement, params)"
   ],
   "metadata": {
    "collapsed": false,
    "ExecuteTime": {
     "end_time": "2023-10-29T19:57:45.098379950Z",
     "start_time": "2023-10-29T19:57:37.396129449Z"
    }
   }
  },
  {
   "cell_type": "code",
   "execution_count": 43,
   "outputs": [],
   "source": [
    "db_cnx.commit()"
   ],
   "metadata": {
    "collapsed": false,
    "ExecuteTime": {
     "end_time": "2023-10-29T19:57:45.118259006Z",
     "start_time": "2023-10-29T19:57:45.112858298Z"
    }
   }
  },
  {
   "cell_type": "code",
   "execution_count": 44,
   "outputs": [
    {
     "data": {
      "text/plain": "True"
     },
     "execution_count": 44,
     "metadata": {},
     "output_type": "execute_result"
    }
   ],
   "source": [
    "cursor.close()"
   ],
   "metadata": {
    "collapsed": false,
    "ExecuteTime": {
     "end_time": "2023-10-29T19:57:45.128683471Z",
     "start_time": "2023-10-29T19:57:45.122531799Z"
    }
   }
  },
  {
   "cell_type": "code",
   "execution_count": 45,
   "outputs": [],
   "source": [
    "db_cnx.close()"
   ],
   "metadata": {
    "collapsed": false,
    "ExecuteTime": {
     "end_time": "2023-10-29T19:57:45.216721865Z",
     "start_time": "2023-10-29T19:57:45.126955384Z"
    }
   }
  },
  {
   "cell_type": "code",
   "execution_count": 45,
   "outputs": [],
   "source": [],
   "metadata": {
    "collapsed": false,
    "ExecuteTime": {
     "end_time": "2023-10-29T19:57:45.223455825Z",
     "start_time": "2023-10-29T19:57:45.217676912Z"
    }
   }
  }
 ],
 "metadata": {
  "kernelspec": {
   "display_name": "Python 3",
   "language": "python",
   "name": "python3"
  },
  "language_info": {
   "codemirror_mode": {
    "name": "ipython",
    "version": 2
   },
   "file_extension": ".py",
   "mimetype": "text/x-python",
   "name": "python",
   "nbconvert_exporter": "python",
   "pygments_lexer": "ipython2",
   "version": "2.7.6"
  }
 },
 "nbformat": 4,
 "nbformat_minor": 0
}
