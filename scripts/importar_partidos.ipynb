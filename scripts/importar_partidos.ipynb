{
 "cells": [
  {
   "cell_type": "code",
   "execution_count": 17,
   "outputs": [],
   "source": [
    "import requests\n",
    "import mysql.connector\n",
    "import re"
   ],
   "metadata": {
    "collapsed": false,
    "ExecuteTime": {
     "end_time": "2023-12-29T18:36:11.902639416Z",
     "start_time": "2023-12-29T18:36:11.896446217Z"
    }
   }
  },
  {
   "cell_type": "code",
   "execution_count": 18,
   "outputs": [],
   "source": [
    "db_cnx = mysql.connector.connect(user=\"docker\", password=\"docker\", host=\"localhost\", database=\"tcc\")"
   ],
   "metadata": {
    "collapsed": false,
    "ExecuteTime": {
     "end_time": "2023-12-29T18:36:11.955465963Z",
     "start_time": "2023-12-29T18:36:11.914367585Z"
    }
   }
  },
  {
   "cell_type": "markdown",
   "source": [
    "# Inserindo partidos"
   ],
   "metadata": {
    "collapsed": false
   }
  },
  {
   "cell_type": "code",
   "execution_count": 19,
   "metadata": {
    "collapsed": true,
    "ExecuteTime": {
     "end_time": "2023-12-29T18:36:11.955807316Z",
     "start_time": "2023-12-29T18:36:11.955383887Z"
    }
   },
   "outputs": [],
   "source": [
    "listagem_partidos_url = \"https://dadosabertos.camara.leg.br/api/v2/partidos?ordem=ASC&ordenarPor=sigla&itens=100&idLegislatura=56,57\""
   ]
  },
  {
   "cell_type": "code",
   "execution_count": 20,
   "outputs": [],
   "source": [
    "partidos = requests.get(listagem_partidos_url).json()[\"dados\"]"
   ],
   "metadata": {
    "collapsed": false,
    "ExecuteTime": {
     "end_time": "2023-12-29T18:36:12.432673584Z",
     "start_time": "2023-12-29T18:36:11.955525031Z"
    }
   }
  },
  {
   "cell_type": "code",
   "execution_count": 21,
   "outputs": [],
   "source": [
    "cursor = db_cnx.cursor()\n",
    "cursor.execute(\"delete from partido\")\n",
    "for partido in partidos:\n",
    "\n",
    "    statement = \"\"\"\n",
    "    insert into partido (id, nome, situacao, uri_logo, uri_site, sigla)\n",
    "        values (%(id)s, %(nome)s, %(situacao)s, %(uri_logo)s, %(uri_site)s, %(sigla)s);\n",
    "    \"\"\"\n",
    "    params = {\"id\": partido[\"id\"], \"nome\": partido[\"nome\"], \"sigla\": partido[\"sigla\"]}\n",
    "    detalhes = requests.get(partido[\"uri\"]).json()[\"dados\"]\n",
    "    params[\"uri_logo\"] = detalhes[\"urlLogo\"]\n",
    "    params[\"uri_site\"] = detalhes[\"urlWebSite\"]\n",
    "    if params[\"uri_site\"] == \"\" or params[\"uri_site\"] is None:\n",
    "        params[\"uri_site\"] = detalhes[\"urlFacebook\"]\n",
    "    params[\"situacao\"] = detalhes[\"status\"][\"situacao\"]\n",
    "    cursor.execute(statement, params)"
   ],
   "metadata": {
    "collapsed": false,
    "ExecuteTime": {
     "end_time": "2023-12-29T18:36:31.329758452Z",
     "start_time": "2023-12-29T18:36:12.444751403Z"
    }
   }
  },
  {
   "cell_type": "code",
   "execution_count": 22,
   "outputs": [],
   "source": [
    "db_cnx.commit()"
   ],
   "metadata": {
    "collapsed": false,
    "ExecuteTime": {
     "end_time": "2023-12-29T18:36:31.330087595Z",
     "start_time": "2023-12-29T18:36:31.328981756Z"
    }
   }
  },
  {
   "cell_type": "code",
   "execution_count": 23,
   "outputs": [
    {
     "data": {
      "text/plain": "True"
     },
     "execution_count": 23,
     "metadata": {},
     "output_type": "execute_result"
    }
   ],
   "source": [
    "cursor.close()"
   ],
   "metadata": {
    "collapsed": false,
    "ExecuteTime": {
     "end_time": "2023-12-29T18:36:31.331172579Z",
     "start_time": "2023-12-29T18:36:31.329326933Z"
    }
   }
  },
  {
   "cell_type": "code",
   "outputs": [],
   "source": [],
   "metadata": {
    "collapsed": false,
    "ExecuteTime": {
     "end_time": "2023-12-29T18:36:31.331690173Z",
     "start_time": "2023-12-29T18:36:31.329470689Z"
    }
   },
   "execution_count": 23
  }
 ],
 "metadata": {
  "kernelspec": {
   "display_name": "Python 3",
   "language": "python",
   "name": "python3"
  },
  "language_info": {
   "codemirror_mode": {
    "name": "ipython",
    "version": 2
   },
   "file_extension": ".py",
   "mimetype": "text/x-python",
   "name": "python",
   "nbconvert_exporter": "python",
   "pygments_lexer": "ipython2",
   "version": "2.7.6"
  }
 },
 "nbformat": 4,
 "nbformat_minor": 0
}
