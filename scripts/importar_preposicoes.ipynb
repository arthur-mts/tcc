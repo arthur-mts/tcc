{
 "cells": [
  {
   "cell_type": "code",
   "execution_count": 60,
   "metadata": {
    "collapsed": true
   },
   "outputs": [],
   "source": [
    "import requests\n",
    "import mysql.connector\n",
    "import re"
   ]
  },
  {
   "cell_type": "code",
   "execution_count": 61,
   "outputs": [],
   "source": [
    "db_cnx = mysql.connector.connect(user = \"docker\", password = \"docker\", host=\"localhost\", database = \"tcc\")"
   ],
   "metadata": {
    "collapsed": false
   }
  },
  {
   "cell_type": "markdown",
   "source": [
    "## Buscando proposições"
   ],
   "metadata": {
    "collapsed": false
   }
  },
  {
   "cell_type": "code",
   "execution_count": 62,
   "outputs": [],
   "source": [
    "listagem_proposicoes_url = \"https://dadosabertos.camara.leg.br/api/v2/proposicoes\"\n",
    "detalhe_proposicoes_url = \"https://dadosabertos.camara.leg.br/api/v2/proposicoes/\"\n",
    "##TODO: salvar isso aqui num arquivo e só consultar (ou fazer um cache)\n",
    "codigo_situacao_url = \"https://dadosabertos.camara.leg.br/api/v2/referencias/proposicoes/codSituacao\"\n",
    "\n",
    "params = {\n",
    "    \"ordenarPor\": \"siglaTipo\",\n",
    "    \"dataApresentacaoInicio\": \"2020-01-01\",\n",
    "    \"dataApresentacaoFim\": \"2020-12-01\",\n",
    "    \"siglaTipo\": \"PL,PLC\",\n",
    "    \"itens\": \"10\"\n",
    "}\n",
    "response = requests.get(listagem_proposicoes_url, params).json()"
   ],
   "metadata": {
    "collapsed": false
   }
  },
  {
   "cell_type": "code",
   "execution_count": 63,
   "outputs": [],
   "source": [
    "proposicoes = response[\"dados\"]"
   ],
   "metadata": {
    "collapsed": false
   }
  },
  {
   "cell_type": "code",
   "execution_count": 64,
   "outputs": [],
   "source": [
    "codigo_situacao_lista = requests.get(codigo_situacao_url).json()[\"dados\"]\n",
    "codigo_situacao = {}\n",
    "for i in codigo_situacao_lista:\n",
    "    codigo_situacao[i[\"cod\"]] = i[\"nome\"]"
   ],
   "metadata": {
    "collapsed": false
   }
  },
  {
   "cell_type": "code",
   "execution_count": 65,
   "outputs": [
    {
     "data": {
      "text/plain": "True"
     },
     "execution_count": 65,
     "metadata": {},
     "output_type": "execute_result"
    }
   ],
   "source": [
    "query = \"\"\"\n",
    "insert into proposicoes(id, tipo, ano, ementa, ementa_detalhada, uri_documento, data_apresentacao, ultimo_relator_id,\n",
    "                        situacao)\n",
    "    value (%(id)s, %(siglaTipo)s, %(ano)s, %(ementa)s, null, %(uri)s, null, null, null)\n",
    "on duplicate key update tipo=%(siglaTipo)s, ano=%(ano)s, ementa=%(ementa)s, ementa_detalhada=null, uri_documento=null,\n",
    "                        data_apresentacao= null, ultimo_relator_id = null, situacao = null;\n",
    "\"\"\"\n",
    "## Campos em nulo serão atualizados mais tarde\n",
    "cursor = db_cnx.cursor()\n",
    "for preposicao in proposicoes:\n",
    "    cursor.execute(query, preposicao)\n",
    "db_cnx.commit()\n",
    "cursor.close()"
   ],
   "metadata": {
    "collapsed": false
   }
  },
  {
   "cell_type": "code",
   "execution_count": 66,
   "outputs": [],
   "source": [
    "def extrair_id_deputado(url):\n",
    "    return re.search(r\"/deputados/(.*)$\", url).group(1)"
   ],
   "metadata": {
    "collapsed": false
   }
  },
  {
   "cell_type": "code",
   "execution_count": 67,
   "outputs": [
    {
     "data": {
      "text/plain": "True"
     },
     "execution_count": 67,
     "metadata": {},
     "output_type": "execute_result"
    }
   ],
   "source": [
    "query = \"\"\"\n",
    "update proposicoes set\n",
    "                       ementa_detalhada = %(ementaDetalhada)s, data_apresentacao = %(dataApresentacao)s,\n",
    "                       uri_documento = %(urlInteiroTeor)s,\n",
    "                       ultimo_relator_id = %(ultimoRelatorId)s, situacao = %(situacao)s where id = %(id)s ;\n",
    "\"\"\"\n",
    "preposicao_updates = []\n",
    "cursor = db_cnx.cursor()\n",
    "for preposicao in proposicoes:\n",
    "    response = requests.get(f\"{detalhe_proposicoes_url}/{preposicao['id']}\").json()[\"dados\"]\n",
    "\n",
    "    params = {\n",
    "        \"ementaDetalhada\": response[\"ementaDetalhada\"],\n",
    "        \"dataApresentacao\": response[\"dataApresentacao\"][:-6],\n",
    "        \"id\": preposicao['id'],\n",
    "        \"urlInteiroTeor\": response[\"urlInteiroTeor\"]\n",
    "    }\n",
    "    uriUltimoRelator = response[\"statusProposicao\"][\"uriUltimoRelator\"]\n",
    "    ultimoRelatorId = None\n",
    "    if not uriUltimoRelator is None:\n",
    "        ultimoRelatorId = re.search(r\"/deputados/(.*)$\", response[\"statusProposicao\"][\"uriUltimoRelator\"]).group(1)\n",
    "\n",
    "    autores = requests.get(response[\"uriAutores\"]).json()[\"dados\"]\n",
    "\n",
    "    for autor in autores:\n",
    "        if autor.get(\"tipo\") == \"Deputado\":\n",
    "            id_autor = extrair_id_deputado(autor.get(\"uri\"))\n",
    "\n",
    "            cursor.execute(\"select exists(select * from deputado where id = %s)\", [id_autor])\n",
    "            deputado_existe = cursor.fetchone()[0] == 1\n",
    "\n",
    "            if deputado_existe:\n",
    "\n",
    "                cursor.execute(\"\"\"\n",
    "                    insert into autor_proposicoes (id_proposicao, id_deputado)\n",
    "                    values (%s, %s);\n",
    "                \"\"\", (params[\"id\"], id_autor))\n",
    "\n",
    "    params[\"situacao\"] = codigo_situacao[str(response[\"statusProposicao\"][\"codSituacao\"])]\n",
    "    params[\"ultimoRelatorId\"] = ultimoRelatorId\n",
    "\n",
    "    cursor.execute(query, params)\n",
    "db_cnx.commit()\n",
    "cursor.close()"
   ],
   "metadata": {
    "collapsed": false
   }
  }
 ],
 "metadata": {
  "kernelspec": {
   "display_name": "Python 3",
   "language": "python",
   "name": "python3"
  },
  "language_info": {
   "codemirror_mode": {
    "name": "ipython",
    "version": 2
   },
   "file_extension": ".py",
   "mimetype": "text/x-python",
   "name": "python",
   "nbconvert_exporter": "python",
   "pygments_lexer": "ipython2",
   "version": "2.7.6"
  }
 },
 "nbformat": 4,
 "nbformat_minor": 0
}
