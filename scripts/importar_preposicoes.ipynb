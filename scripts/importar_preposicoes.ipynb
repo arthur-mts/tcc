{
 "cells": [
  {
   "cell_type": "code",
   "execution_count": 1,
   "metadata": {
    "ExecuteTime": {
     "end_time": "2023-10-29T19:37:43.953374814Z",
     "start_time": "2023-10-29T19:37:43.884055979Z"
    }
   },
   "outputs": [],
   "source": [
    "import requests\n",
    "import mysql.connector\n",
    "import re"
   ]
  },
  {
   "cell_type": "code",
   "execution_count": 2,
   "metadata": {
    "ExecuteTime": {
     "end_time": "2023-10-29T19:37:43.979129581Z",
     "start_time": "2023-10-29T19:37:43.956154323Z"
    },
    "collapsed": false,
    "jupyter": {
     "outputs_hidden": false
    }
   },
   "outputs": [],
   "source": [
    "db_cnx = mysql.connector.connect(user = \"docker\", password = \"docker\", host=\"localhost\", database = \"tcc\")"
   ]
  },
  {
   "cell_type": "markdown",
   "metadata": {
    "collapsed": false,
    "jupyter": {
     "outputs_hidden": false
    }
   },
   "source": [
    "## Buscando proposições"
   ]
  },
  {
   "cell_type": "code",
   "execution_count": 3,
   "metadata": {
    "ExecuteTime": {
     "end_time": "2023-10-29T19:37:45.506587542Z",
     "start_time": "2023-10-29T19:37:43.982292598Z"
    },
    "collapsed": false,
    "jupyter": {
     "outputs_hidden": false
    }
   },
   "outputs": [],
   "source": [
    "listagem_proposicoes_url = \"https://dadosabertos.camara.leg.br/api/v2/proposicoes\"\n",
    "detalhe_proposicoes_url = \"https://dadosabertos.camara.leg.br/api/v2/proposicoes/\"\n",
    "##TODO: salvar isso aqui num arquivo e só consultar (ou fazer um cache)\n",
    "codigo_situacao_url = \"https://dadosabertos.camara.leg.br/api/v2/referencias/proposicoes/codSituacao\"\n",
    "\n",
    "params = {\n",
    "    \"ordenarPor\": \"siglaTipo\",\n",
    "    \"dataApresentacaoInicio\": \"2020-01-01\",\n",
    "    \"dataApresentacaoFim\": \"2020-12-01\",\n",
    "    \"siglaTipo\": \"PL,PLC\",\n",
    "    \"itens\": \"10\"\n",
    "}\n",
    "response = requests.get(listagem_proposicoes_url, params).json()"
   ]
  },
  {
   "cell_type": "code",
   "execution_count": 4,
   "metadata": {
    "ExecuteTime": {
     "end_time": "2023-10-29T19:37:45.514745575Z",
     "start_time": "2023-10-29T19:37:45.508612831Z"
    },
    "collapsed": false,
    "jupyter": {
     "outputs_hidden": false
    }
   },
   "outputs": [],
   "source": [
    "proposicoes = response[\"dados\"]"
   ]
  },
  {
   "cell_type": "code",
   "execution_count": 5,
   "metadata": {
    "ExecuteTime": {
     "end_time": "2023-10-29T19:37:45.811397700Z",
     "start_time": "2023-10-29T19:37:45.512917911Z"
    },
    "collapsed": false,
    "jupyter": {
     "outputs_hidden": false
    }
   },
   "outputs": [],
   "source": [
    "codigo_situacao_lista = requests.get(codigo_situacao_url).json()[\"dados\"]\n",
    "codigo_situacao = {}\n",
    "for i in codigo_situacao_lista:\n",
    "    codigo_situacao[i[\"cod\"]] = i[\"nome\"]"
   ]
  },
  {
   "cell_type": "code",
   "execution_count": 6,
   "metadata": {
    "ExecuteTime": {
     "end_time": "2023-10-29T19:37:45.846875629Z",
     "start_time": "2023-10-29T19:37:45.813975907Z"
    },
    "collapsed": false,
    "jupyter": {
     "outputs_hidden": false
    }
   },
   "outputs": [
    {
     "data": {
      "text/plain": [
       "True"
      ]
     },
     "execution_count": 6,
     "metadata": {},
     "output_type": "execute_result"
    }
   ],
   "source": [
    "query = \"\"\"\n",
    "insert into proposicoes(id, tipo, ano, ementa, ementa_detalhada, uri_documento, data_apresentacao, ultimo_relator_id,\n",
    "                        situacao)\n",
    "    value (%(id)s, %(siglaTipo)s, %(ano)s, %(ementa)s, null, %(uri)s, null, null, null)\n",
    "on duplicate key update tipo=%(siglaTipo)s, ano=%(ano)s, ementa=%(ementa)s, ementa_detalhada=null, uri_documento=null,\n",
    "                        data_apresentacao= null, ultimo_relator_id = null, situacao = null;\n",
    "\"\"\"\n",
    "## Campos em nulo serão atualizados mais tarde\n",
    "cursor = db_cnx.cursor()\n",
    "for preposicao in proposicoes:\n",
    "    cursor.execute(query, preposicao)\n",
    "db_cnx.commit()\n",
    "cursor.close()"
   ]
  },
  {
   "cell_type": "code",
   "execution_count": 7,
   "metadata": {
    "ExecuteTime": {
     "end_time": "2023-10-29T19:37:45.847379141Z",
     "start_time": "2023-10-29T19:37:45.838406746Z"
    },
    "collapsed": false,
    "jupyter": {
     "outputs_hidden": false
    }
   },
   "outputs": [],
   "source": [
    "def extrair_id_deputado(url):\n",
    "    return re.search(r\"/deputados/(.*)$\", url).group(1)"
   ]
  },
  {
   "cell_type": "code",
   "execution_count": 8,
   "metadata": {
    "ExecuteTime": {
     "end_time": "2023-10-29T19:37:48.251688587Z",
     "start_time": "2023-10-29T19:37:45.848017993Z"
    },
    "collapsed": false,
    "jupyter": {
     "outputs_hidden": false
    }
   },
   "outputs": [
    {
     "data": {
      "text/plain": [
       "True"
      ]
     },
     "execution_count": 8,
     "metadata": {},
     "output_type": "execute_result"
    }
   ],
   "source": [
    "query = \"\"\"\n",
    "update proposicoes set\n",
    "                       ementa_detalhada = %(ementaDetalhada)s, data_apresentacao = %(dataApresentacao)s,\n",
    "                       uri_documento = %(urlInteiroTeor)s,\n",
    "                       ultimo_relator_id = %(ultimoRelatorId)s, situacao = %(situacao)s where id = %(id)s ;\n",
    "\"\"\"\n",
    "preposicao_updates = []\n",
    "cursor = db_cnx.cursor()\n",
    "for preposicao in proposicoes:\n",
    "    response = requests.get(f\"{detalhe_proposicoes_url}/{preposicao['id']}\").json()[\"dados\"]\n",
    "\n",
    "    params = {\n",
    "        \"ementaDetalhada\": response[\"ementaDetalhada\"],\n",
    "        \"dataApresentacao\": response[\"dataApresentacao\"][:-6],\n",
    "        \"id\": preposicao['id'],\n",
    "        \"urlInteiroTeor\": response[\"urlInteiroTeor\"]\n",
    "    }\n",
    "    uriUltimoRelator = response[\"statusProposicao\"][\"uriUltimoRelator\"]\n",
    "    ultimoRelatorId = None\n",
    "    if not uriUltimoRelator is None:\n",
    "        ultimoRelatorId = re.search(r\"/deputados/(.*)$\", response[\"statusProposicao\"][\"uriUltimoRelator\"]).group(1)\n",
    "\n",
    "    autores = requests.get(response[\"uriAutores\"]).json()[\"dados\"]\n",
    "\n",
    "    for autor in autores:\n",
    "        if autor.get(\"tipo\") == \"Deputado\":\n",
    "            id_autor = extrair_id_deputado(autor.get(\"uri\"))\n",
    "\n",
    "            cursor.execute(\"select exists(select * from deputado where id = %s)\", [id_autor])\n",
    "            deputado_existe = cursor.fetchone()[0] == 1\n",
    "\n",
    "            if deputado_existe:\n",
    "\n",
    "                cursor.execute(\"\"\"\n",
    "                    insert into autor_proposicoes (id_proposicao, id_deputado)\n",
    "                    values (%s, %s);\n",
    "                \"\"\", (params[\"id\"], id_autor))\n",
    "\n",
    "    params[\"situacao\"] = codigo_situacao[str(response[\"statusProposicao\"][\"codSituacao\"])]\n",
    "    params[\"ultimoRelatorId\"] = ultimoRelatorId\n",
    "\n",
    "    cursor.execute(query, params)\n",
    "db_cnx.commit()\n",
    "cursor.close()"
   ]
  }
 ],
 "metadata": {
  "kernelspec": {
   "display_name": "Python 3 (ipykernel)",
   "language": "python",
   "name": "python3"
  },
  "language_info": {
   "codemirror_mode": {
    "name": "ipython",
    "version": 3
   },
   "file_extension": ".py",
   "mimetype": "text/x-python",
   "name": "python",
   "nbconvert_exporter": "python",
   "pygments_lexer": "ipython3",
   "version": "3.8.18"
  }
 },
 "nbformat": 4,
 "nbformat_minor": 4
}
