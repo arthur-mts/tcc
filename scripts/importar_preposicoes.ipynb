{
 "cells": [
  {
   "cell_type": "code",
   "execution_count": 2,
   "metadata": {
    "ExecuteTime": {
     "end_time": "2023-12-30T00:40:09.651924086Z",
     "start_time": "2023-12-30T00:40:09.502538677Z"
    }
   },
   "outputs": [],
   "source": [
    "import json\n",
    "import requests\n",
    "import re\n",
    "import psycopg2"
   ]
  },
  {
   "cell_type": "code",
   "execution_count": 34,
   "metadata": {
    "collapsed": false,
    "ExecuteTime": {
     "end_time": "2023-12-30T01:15:53.867153917Z",
     "start_time": "2023-12-30T01:15:53.841497513Z"
    }
   },
   "outputs": [],
   "source": [
    "db_cnx = psycopg2.connect(user=\"docker\", password=\"docker\", host=\"localhost\", database=\"tcc\")"
   ]
  },
  {
   "cell_type": "code",
   "outputs": [],
   "source": [
    "detalhe_proposicoes_url = \"https://dadosabertos.camara.leg.br/api/v2/proposicoes/\"\n",
    "autores_proposicao_url = \"https://dadosabertos.camara.leg.br/api/v2/proposicoes/:id/autores\"\n",
    "codigo_situacao_url = \"https://dadosabertos.camara.leg.br/api/v2/referencias/proposicoes/codSituacao\""
   ],
   "metadata": {
    "collapsed": false,
    "ExecuteTime": {
     "end_time": "2023-12-30T00:42:20.444883783Z",
     "start_time": "2023-12-30T00:42:20.346588692Z"
    }
   },
   "execution_count": 5
  },
  {
   "cell_type": "markdown",
   "metadata": {
    "collapsed": false
   },
   "source": [
    "## Buscando proposições"
   ]
  },
  {
   "cell_type": "code",
   "execution_count": 6,
   "metadata": {
    "collapsed": false,
    "ExecuteTime": {
     "end_time": "2023-12-30T00:42:22.278858878Z",
     "start_time": "2023-12-30T00:42:21.582856160Z"
    }
   },
   "outputs": [],
   "source": [
    "codigo_situacao_lista = requests.get(codigo_situacao_url).json()[\"dados\"]\n",
    "dicionario_cod_situacao = {}\n",
    "for i in codigo_situacao_lista:\n",
    "    dicionario_cod_situacao[i[\"cod\"]] = i[\"nome\"]"
   ]
  },
  {
   "cell_type": "code",
   "outputs": [],
   "source": [
    "proposicoes_json = \"./proposicoes-2023.json\""
   ],
   "metadata": {
    "collapsed": false
   }
  },
  {
   "cell_type": "code",
   "outputs": [
    {
     "data": {
      "text/plain": "True"
     },
     "execution_count": 7,
     "metadata": {},
     "output_type": "execute_result"
    }
   ],
   "source": [
    "with open(proposicoes_json) as f:\n",
    "    proposicoes = json.load(f)[\"dados\"]\n",
    "\n",
    "query = \"\"\"\n",
    "INSERT INTO proposicoes (id, tipo, ano, ementa, ementa_detalhada, uri_documento, data_apresentacao, ultimo_relator_id, situacao)\n",
    "VALUES (%(id)s, %(siglaTipo)s, %(ano)s, %(ementa)s, null, %(uri)s, null, null, null)\n",
    "ON CONFLICT (id) DO UPDATE \n",
    "    SET tipo = %(siglaTipo)s,\n",
    "        ano = %(ano)s,\n",
    "        ementa = %(ementa)s,\n",
    "        ementa_detalhada = null,\n",
    "        uri_documento = null,\n",
    "        data_apresentacao = null,\n",
    "        ultimo_relator_id = null,\n",
    "        situacao = null;\n",
    "\"\"\"\n",
    "cursor = db_cnx.cursor()\n",
    "for proposicao in proposicoes:\n",
    "    to_insert = {key: proposicao[key] for key in ['id', 'uri', 'siglaTipo', 'codTipo', 'numero', 'ano', 'ementa']}\n",
    "    cursor.execute(query, to_insert)\n",
    "db_cnx.commit()\n",
    "cursor.close()"
   ],
   "metadata": {
    "collapsed": false,
    "ExecuteTime": {
     "end_time": "2023-12-30T00:44:11.889908366Z",
     "start_time": "2023-12-30T00:42:23.992698248Z"
    }
   },
   "execution_count": 7
  },
  {
   "cell_type": "code",
   "execution_count": 10,
   "metadata": {
    "collapsed": false,
    "ExecuteTime": {
     "end_time": "2023-12-30T00:47:10.467789743Z",
     "start_time": "2023-12-30T00:47:10.463101399Z"
    }
   },
   "outputs": [],
   "source": [
    "def extrair_id_deputado(url):\n",
    "    return re.search(r\"/deputados/(.*)$\", url).group(1)"
   ]
  },
  {
   "cell_type": "code",
   "execution_count": 8,
   "metadata": {
    "collapsed": false,
    "ExecuteTime": {
     "end_time": "2023-12-30T00:45:54.628079868Z",
     "start_time": "2023-12-30T00:45:22.806489548Z"
    }
   },
   "outputs": [
    {
     "data": {
      "text/plain": "True"
     },
     "execution_count": 8,
     "metadata": {},
     "output_type": "execute_result"
    }
   ],
   "source": [
    "query = \"\"\"\n",
    "UPDATE proposicoes \n",
    "SET ementa_detalhada = %(ementaDetalhada)s, \n",
    "    data_apresentacao = %(dataApresentacao)s,\n",
    "    uri_documento = %(urlInteiroTeor)s,\n",
    "    ultimo_relator_id = %(ultimoRelatorId)s,\n",
    "    situacao = %(situacao)s \n",
    "WHERE id = %(id)s;\n",
    "\n",
    "\"\"\"\n",
    "\n",
    "query_keywords = \"\"\"\n",
    "    insert into proposicoes_keywords(keyword, proposicao_id) values (%(keyword)s, %(id)s);\n",
    "\"\"\"\n",
    "\n",
    "cursor = db_cnx.cursor()\n",
    "ids = []\n",
    "for proposicao in proposicoes:\n",
    "    params = {\n",
    "        \"ementaDetalhada\": proposicao[\"ementaDetalhada\"],\n",
    "        \"dataApresentacao\": proposicao[\"dataApresentacao\"][:-6],\n",
    "        \"id\": proposicao['id'],\n",
    "        \"urlInteiroTeor\": proposicao[\"urlInteiroTeor\"]\n",
    "    }\n",
    "    uriUltimoRelator = proposicao[\"ultimoStatus\"][\"uriRelator\"]\n",
    "    ultimoRelatorId = None\n",
    "    if not uriUltimoRelator is None and uriUltimoRelator != \"\":\n",
    "        ultimoRelatorId = re.search(r\"/deputados/(.*)$\", uriUltimoRelator).group(1)\n",
    "    cod_situacao = proposicao[\"ultimoStatus\"][\"idSituacao\"]\n",
    "    params[\"situacao\"] = None\n",
    "    if not cod_situacao is None and cod_situacao != \"\":\n",
    "        params[\"situacao\"] = dicionario_cod_situacao[str(cod_situacao)]\n",
    "    params[\"ultimoRelatorId\"] = ultimoRelatorId\n",
    "\n",
    "    cursor.execute(query, params)\n",
    "\n",
    "    cursor.execute(\"delete from proposicoes_keywords where proposicao_id = %(id)s\", {\"id\": params[\"id\"]})\n",
    "    for i in proposicao[\"keywords\"].split(\", \"):\n",
    "        cursor.execute(query_keywords, {\"keyword\": unidecode(i.strip().lower().replace(\".\", \"\")), \"id\": params[\"id\"]})\n",
    "    ids.append(proposicao['id'])\n",
    "db_cnx.commit()    "
   ]
  },
  {
   "cell_type": "code",
   "outputs": [],
   "source": [
    "statement_autor_proposicao = \"\"\"\n",
    "                    insert ignore into autor_proposicoes (id_proposicao, id_deputado)\n",
    "                    values (%s, %s);\n",
    "                \"\"\"\n",
    "\n",
    "with open(\"proposicoesAutores-2023.json\") as f:\n",
    "    autores_proposicoes = json.load(f)[\"dados\"]\n",
    "    \n",
    "deputados_nao_existe = []\n",
    "    \n",
    "for autor_prop in autores_proposicoes:\n",
    "    if autor_prop.get(\"tipoAutor\") != \"Deputado\":\n",
    "        continue\n",
    "    \n",
    "    id_autor = extrair_id_deputado(autor_prop.get(\"uriAutor\"))\n",
    "    cursor.execute(\"select exists(select * from proposicoes where id = %s)\", [autor_prop[\"idProposicao\"]])\n",
    "    proposicao_existe = cursor.fetchone()[0] == 1\n",
    "    if not proposicao_existe:\n",
    "        continue\n",
    "        \n",
    "    cursor.execute(\"select exists(select * from deputado where id = %s)\", [id_autor])\n",
    "    deputado_existe = cursor.fetchone()[0] == 1\n",
    "    \n",
    "    if not deputado_existe:\n",
    "        deputados_nao_existe.append(id_autor)\n",
    "        continue\n",
    "    \n",
    "    cursor.execute(statement_autor_proposicao, (autor_prop.get(\"idProposicao\"), id_autor))\n",
    "db_cnx.commit()"
   ],
   "metadata": {
    "collapsed": false,
    "ExecuteTime": {
     "end_time": "2023-12-30T01:19:42.880791891Z",
     "start_time": "2023-12-30T01:17:48.882716059Z"
    }
   },
   "execution_count": 39
  },
  {
   "cell_type": "code",
   "outputs": [],
   "source": [
    "insert_deputado_statement = \"\"\"\n",
    "    insert ignore into deputado (id, nome, nome_eleitoral, situacao,\n",
    "                          condicao_eleitoral, partido, estado, uri_foto)\n",
    "    values ( %(id)s, %(nome)s, %(nome_eleitoral)s, %(situacao)s,\n",
    "     %(condicao_eleitoral)s,\n",
    "     %(partido)s,\n",
    "     %(estado)s,\n",
    "     %(uri_foto)s\n",
    "     );\"\"\"\n",
    "for deputado in deputados_nao_existe:\n",
    "    url = f\"https://dadosabertos.camara.leg.br/api/v2/deputados/{deputado}\"\n",
    "    data = requests.get(url).json()[\"dados\"]\n",
    "    params = {\n",
    "        \"id\": data[\"id\"],\n",
    "        \"nome_eleitoral\": data[\"ultimoStatus\"][\"nomeEleitoral\"],\n",
    "        \"estado\": data[\"ultimoStatus\"][\"siglaUf\"],\n",
    "        \"partido\": data[\"ultimoStatus\"][\"siglaPartido\"],\n",
    "        \"uri_foto\": data[\"ultimoStatus\"][\"urlFoto\"],\n",
    "        \"nome\": data[\"nomeCivil\"],\n",
    "        \"situacao\": data[\"ultimoStatus\"][\"situacao\"],\n",
    "        \"condicao_eleitoral\": data[\"ultimoStatus\"][\"condicaoEleitoral\"]\n",
    "    }\n",
    "    cursor.execute(insert_deputado_statement, params)\n",
    "db_cnx.commit()"
   ],
   "metadata": {
    "collapsed": false,
    "ExecuteTime": {
     "end_time": "2023-12-30T01:33:16.857377626Z",
     "start_time": "2023-12-30T01:32:59.527988810Z"
    }
   },
   "execution_count": 45
  },
  {
   "cell_type": "code",
   "outputs": [],
   "source": [
    "## tentando dnv...\n",
    "\n",
    "statement_autor_proposicao = \"\"\"\n",
    "                    insert ignore into autor_proposicoes (id_proposicao, id_deputado)\n",
    "                    values (%s, %s);\n",
    "                \"\"\"\n",
    "\n",
    "with open(\"proposicoesAutores-2023.json\") as f:\n",
    "    autores_proposicoes = json.load(f)[\"dados\"]\n",
    "    \n",
    "deputados_nao_existe = []\n",
    "\n",
    "for autor_prop in autores_proposicoes:\n",
    "    if autor_prop.get(\"tipoAutor\") != \"Deputado\":\n",
    "        continue\n",
    "    \n",
    "    id_autor = extrair_id_deputado(autor_prop.get(\"uriAutor\"))\n",
    "    cursor.execute(\"select exists(select * from proposicoes where id = %s)\", [autor_prop[\"idProposicao\"]])\n",
    "    proposicao_existe = cursor.fetchone()[0] == 1\n",
    "    if not proposicao_existe:\n",
    "        continue\n",
    "        \n",
    "    cursor.execute(\"select exists(select * from deputado where id = %s)\", [id_autor])\n",
    "    deputado_existe = cursor.fetchone()[0] == 1\n",
    "    \n",
    "    if not deputado_existe:\n",
    "        deputados_nao_existe.append(id_autor)\n",
    "        continue\n",
    "    \n",
    "    cursor.execute(statement_autor_proposicao, (autor_prop.get(\"idProposicao\"), id_autor))\n",
    "db_cnx.commit()"
   ],
   "metadata": {
    "collapsed": false,
    "ExecuteTime": {
     "end_time": "2023-12-30T01:34:13.404072420Z",
     "start_time": "2023-12-30T01:33:25.943648778Z"
    }
   },
   "execution_count": 46
  },
  {
   "cell_type": "code",
   "outputs": [],
   "source": [
    "db_cnx.close()"
   ],
   "metadata": {
    "collapsed": false,
    "ExecuteTime": {
     "end_time": "2023-12-30T01:39:13.741105056Z",
     "start_time": "2023-12-30T01:39:13.694030476Z"
    }
   },
   "execution_count": 49
  },
  {
   "cell_type": "code",
   "outputs": [],
   "source": [],
   "metadata": {
    "collapsed": false
   }
  }
 ],
 "metadata": {
  "kernelspec": {
   "display_name": "Python 3 (ipykernel)",
   "language": "python",
   "name": "python3"
  },
  "language_info": {
   "codemirror_mode": {
    "name": "ipython",
    "version": 3
   },
   "file_extension": ".py",
   "mimetype": "text/x-python",
   "name": "python",
   "nbconvert_exporter": "python",
   "pygments_lexer": "ipython3",
   "version": "3.8.18"
  }
 },
 "nbformat": 4,
 "nbformat_minor": 4
}
