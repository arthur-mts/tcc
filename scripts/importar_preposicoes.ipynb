{
 "cells": [
  {
   "cell_type": "code",
   "execution_count": 30,
   "metadata": {
    "ExecuteTime": {
     "end_time": "2023-11-19T14:59:40.467080868Z",
     "start_time": "2023-11-19T14:59:40.415402395Z"
    }
   },
   "outputs": [],
   "source": [
    "import requests\n",
    "import mysql.connector\n",
    "import re\n",
    "from unidecode import unidecode"
   ]
  },
  {
   "cell_type": "code",
   "execution_count": 31,
   "metadata": {
    "collapsed": false,
    "ExecuteTime": {
     "end_time": "2023-11-19T14:59:40.494408975Z",
     "start_time": "2023-11-19T14:59:40.422267491Z"
    }
   },
   "outputs": [],
   "source": [
    "db_cnx = mysql.connector.connect(user=\"docker\", password=\"docker\", host=\"localhost\", database=\"tcc\")"
   ]
  },
  {
   "cell_type": "code",
   "execution_count": 32,
   "outputs": [],
   "source": [
    "dataInicio = \"2022-01-01\"\n",
    "dataFim = \"2022-12-01\""
   ],
   "metadata": {
    "collapsed": false,
    "ExecuteTime": {
     "end_time": "2023-11-19T14:59:40.494799883Z",
     "start_time": "2023-11-19T14:59:40.463652780Z"
    }
   }
  },
  {
   "cell_type": "markdown",
   "metadata": {
    "collapsed": false
   },
   "source": [
    "## Buscando proposições"
   ]
  },
  {
   "cell_type": "code",
   "execution_count": 33,
   "metadata": {
    "collapsed": false,
    "ExecuteTime": {
     "end_time": "2023-11-19T14:59:41.584722203Z",
     "start_time": "2023-11-19T14:59:40.472432059Z"
    }
   },
   "outputs": [],
   "source": [
    "listagem_proposicoes_url = \"https://dadosabertos.camara.leg.br/api/v2/proposicoes\"\n",
    "detalhe_proposicoes_url = \"https://dadosabertos.camara.leg.br/api/v2/proposicoes/\"\n",
    "##TODO: salvar isso aqui num arquivo e só consultar (ou fazer um cache)\n",
    "codigo_situacao_url = \"https://dadosabertos.camara.leg.br/api/v2/referencias/proposicoes/codSituacao\"\n",
    "\n",
    "params = {\n",
    "    \"ordenarPor\": \"siglaTipo\",\n",
    "    \"dataApresentacaoInicio\": dataInicio,\n",
    "    \"dataApresentacaoFim\": dataFim,\n",
    "    \"siglaTipo\": \"PL,PLC\",\n",
    "    \"itens\": \"10\"\n",
    "}\n",
    "response = requests.get(listagem_proposicoes_url, params).json()"
   ]
  },
  {
   "cell_type": "code",
   "execution_count": 34,
   "metadata": {
    "collapsed": false,
    "ExecuteTime": {
     "end_time": "2023-11-19T14:59:41.591974194Z",
     "start_time": "2023-11-19T14:59:41.587299741Z"
    }
   },
   "outputs": [],
   "source": [
    "proposicoes = response[\"dados\"]"
   ]
  },
  {
   "cell_type": "code",
   "execution_count": 44,
   "metadata": {
    "collapsed": false,
    "ExecuteTime": {
     "end_time": "2023-11-19T15:03:25.826400639Z",
     "start_time": "2023-11-19T15:03:25.515833483Z"
    }
   },
   "outputs": [],
   "source": [
    "codigo_situacao_lista = requests.get(codigo_situacao_url).json()[\"dados\"]\n",
    "dicionario_cod_situacao = {}\n",
    "for i in codigo_situacao_lista:\n",
    "    dicionario_cod_situacao[i[\"cod\"]] = i[\"nome\"]"
   ]
  },
  {
   "cell_type": "code",
   "execution_count": 36,
   "metadata": {
    "collapsed": false,
    "ExecuteTime": {
     "end_time": "2023-11-19T14:59:41.934063591Z",
     "start_time": "2023-11-19T14:59:41.896742828Z"
    }
   },
   "outputs": [
    {
     "data": {
      "text/plain": "True"
     },
     "execution_count": 36,
     "metadata": {},
     "output_type": "execute_result"
    }
   ],
   "source": [
    "query = \"\"\"\n",
    "insert into proposicoes(id, tipo, ano, ementa, ementa_detalhada, uri_documento, data_apresentacao, ultimo_relator_id,\n",
    "                        situacao)\n",
    "    value (%(id)s, %(siglaTipo)s, %(ano)s, %(ementa)s, null, %(uri)s, null, null, null)\n",
    "on duplicate key update tipo=%(siglaTipo)s, ano=%(ano)s, ementa=%(ementa)s, ementa_detalhada=null, uri_documento=null,\n",
    "                        data_apresentacao= null, ultimo_relator_id = null, situacao = null;\n",
    "\"\"\"\n",
    "## Campos em nulo serão atualizados mais tarde\n",
    "cursor = db_cnx.cursor()\n",
    "for preposicao in proposicoes:\n",
    "    cursor.execute(query, preposicao)\n",
    "db_cnx.commit()\n",
    "cursor.close()"
   ]
  },
  {
   "cell_type": "code",
   "execution_count": 37,
   "metadata": {
    "collapsed": false,
    "ExecuteTime": {
     "end_time": "2023-11-19T14:59:41.934719471Z",
     "start_time": "2023-11-19T14:59:41.925305639Z"
    }
   },
   "outputs": [],
   "source": [
    "def extrair_id_deputado(url):\n",
    "    return re.search(r\"/deputados/(.*)$\", url).group(1)"
   ]
  },
  {
   "cell_type": "code",
   "execution_count": 46,
   "metadata": {
    "collapsed": false,
    "ExecuteTime": {
     "end_time": "2023-11-19T15:04:00.120085402Z",
     "start_time": "2023-11-19T15:03:53.492165917Z"
    }
   },
   "outputs": [
    {
     "data": {
      "text/plain": "True"
     },
     "execution_count": 46,
     "metadata": {},
     "output_type": "execute_result"
    }
   ],
   "source": [
    "query = \"\"\"\n",
    "update proposicoes set\n",
    "                       ementa_detalhada = %(ementaDetalhada)s, data_apresentacao = %(dataApresentacao)s,\n",
    "                       uri_documento = %(urlInteiroTeor)s,\n",
    "                       ultimo_relator_id = %(ultimoRelatorId)s, situacao = %(situacao)s where id = %(id)s ;\n",
    "\"\"\"\n",
    "\n",
    "query_keywords = \"\"\"\n",
    "    insert into proposicoes_keywords(keyword, proposicao_id) values (%(keyword)s, %(id)s);\n",
    "\"\"\"\n",
    "preposicao_updates = []\n",
    "cursor = db_cnx.cursor()\n",
    "for preposicao in proposicoes:\n",
    "    response = requests.get(f\"{detalhe_proposicoes_url}/{preposicao['id']}\").json()[\"dados\"]\n",
    "\n",
    "    params = {\n",
    "        \"ementaDetalhada\": response[\"ementaDetalhada\"],\n",
    "        \"dataApresentacao\": response[\"dataApresentacao\"][:-6],\n",
    "        \"id\": preposicao['id'],\n",
    "        \"urlInteiroTeor\": response[\"urlInteiroTeor\"]\n",
    "    }\n",
    "    uriUltimoRelator = response[\"statusProposicao\"][\"uriUltimoRelator\"]\n",
    "    ultimoRelatorId = None\n",
    "    if not uriUltimoRelator is None:\n",
    "        ultimoRelatorId = re.search(r\"/deputados/(.*)$\", response[\"statusProposicao\"][\"uriUltimoRelator\"]).group(1)\n",
    "\n",
    "    autores = requests.get(response[\"uriAutores\"]).json()[\"dados\"]\n",
    "\n",
    "    for autor in autores:\n",
    "        if autor.get(\"tipo\") == \"Deputado\":\n",
    "            id_autor = extrair_id_deputado(autor.get(\"uri\"))\n",
    "\n",
    "            cursor.execute(\"select exists(select * from deputado where id = %s)\", [id_autor])\n",
    "            deputado_existe = cursor.fetchone()[0] == 1\n",
    "\n",
    "            if deputado_existe:\n",
    "                cursor.execute(\"\"\"\n",
    "                    insert IGNORE into autor_proposicoes (id_proposicao, id_deputado)\n",
    "                    values (%s, %s);\n",
    "                \"\"\", (params[\"id\"], id_autor))\n",
    "    cod_situacao = response[\"statusProposicao\"][\"codSituacao\"]\n",
    "    params[\"situacao\"] = None\n",
    "    if not cod_situacao is None:\n",
    "        params[\"situacao\"] = dicionario_cod_situacao[str(cod_situacao)]\n",
    "    params[\"ultimoRelatorId\"] = ultimoRelatorId\n",
    "\n",
    "    cursor.execute(query, params)\n",
    "\n",
    "    cursor.execute(\"delete from proposicoes_keywords where proposicao_id = %(id)s\", {\"id\": params[\"id\"]})\n",
    "    for i in response[\"keywords\"].split(\", \"):\n",
    "        cursor.execute(query_keywords, {\"keyword\": unidecode(i.strip().lower().replace(\".\", \"\")), \"id\": params[\"id\"]})\n",
    "db_cnx.commit()\n",
    "cursor.close()"
   ]
  },
  {
   "cell_type": "code",
   "execution_count": null,
   "outputs": [],
   "source": [],
   "metadata": {
    "collapsed": false,
    "ExecuteTime": {
     "start_time": "2023-11-19T14:59:44.327793070Z"
    }
   }
  }
 ],
 "metadata": {
  "kernelspec": {
   "display_name": "Python 3 (ipykernel)",
   "language": "python",
   "name": "python3"
  },
  "language_info": {
   "codemirror_mode": {
    "name": "ipython",
    "version": 3
   },
   "file_extension": ".py",
   "mimetype": "text/x-python",
   "name": "python",
   "nbconvert_exporter": "python",
   "pygments_lexer": "ipython3",
   "version": "3.8.18"
  }
 },
 "nbformat": 4,
 "nbformat_minor": 4
}
